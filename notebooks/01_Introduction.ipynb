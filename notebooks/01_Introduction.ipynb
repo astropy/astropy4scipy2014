{
 "metadata": {
  "name": "",
  "signature": "sha256:67beeccf2309b7738d38f7bc937533d1eae20351649d5fe3d94fa69299a1d2ce"
 },
 "nbformat": 3,
 "nbformat_minor": 0,
 "worksheets": [
  {
   "cells": [
    {
     "cell_type": "heading",
     "level": 1,
     "metadata": {},
     "source": [
      "A Tutorial for Astropy"
     ]
    },
    {
     "cell_type": "markdown",
     "metadata": {},
     "source": [
      "* [Back to tutorial home](http://astropy4scipy2014.readthedocs.org/)\n",
      "* [Download raw notebook file](https://github.com/astropy/astropy4scipy2014/raw/master/notebooks/01_Introduction.ipynb)"
     ]
    },
    {
     "cell_type": "heading",
     "level": 1,
     "metadata": {},
     "source": [
      "Introduction"
     ]
    },
    {
     "cell_type": "heading",
     "level": 2,
     "metadata": {},
     "source": [
      "A brief history of the Astropy Project"
     ]
    },
    {
     "cell_type": "markdown",
     "metadata": {},
     "source": [
      " - Started about 4 years ago\n",
      "   - Goal to standardize on core set of astronomical libraries\n",
      "    - And to foster use of standard libraries in Python application and library packages\n",
      " - STScI has migrated its standard libraries to astropy and is transitioning to use it for all its released software\n",
      " - Very active community\n",
      " - Much effort going into consistency and testing\n",
      " - Some of the most active members are teaching this tutorial\n",
      "   - Does not include me..."
     ]
    },
    {
     "cell_type": "heading",
     "level": 2,
     "metadata": {},
     "source": [
      "Not part of Tutorial"
     ]
    },
    {
     "cell_type": "markdown",
     "metadata": {},
     "source": [
      "  - Intro to Python\n",
      "    - though this still may be useful if you know no Python\n",
      "      - i.e., you can see what is possible\n",
      "  - comprehensive coverage of all of Astropy\n",
      "    - Just too much in astropy to cover\n",
      "  - covering other major astronomical tools in Python"
     ]
    },
    {
     "cell_type": "heading",
     "level": 2,
     "metadata": {},
     "source": [
      "Outline of Tutorial"
     ]
    },
    {
     "cell_type": "markdown",
     "metadata": {},
     "source": [
      " - **Introduction** (15 minutes talking / 15 minutes exercise): Perry Greenfield\n",
      " - **Units/Quantities** (15/15): Erik Bray\n",
      " - **Tables** (25/25): Tom Aldcroft\n",
      "\n",
      "15 minute break\n",
      "\n",
      " - **Data Access**\n",
      "   - **FITS files** (20/20): Erik Bray\n",
      "   - **ascii tables** (20/20): Tom Aldcroft\n",
      " - **Coordinates (sky/time)** (15/15): Tom Robitaille\n",
      " - **Astropy work in progress** (5): Tom Robitaille\n",
      " "
     ]
    },
    {
     "cell_type": "heading",
     "level": 2,
     "metadata": {},
     "source": [
      "Software Prerequisites"
     ]
    },
    {
     "cell_type": "markdown",
     "metadata": {},
     "source": [
      " - astropy 0.4 (0.3.2 will suffice, but coordinates examples will be different in some cases; we wish to teach the new version even if not all have it installed)\n",
      " - numpy 1.8.1\n",
      " - matplotlib 1.3.1\n",
      " - ipython 2.0.0\n",
      " \n",
      "Easist ways to obtain are:\n",
      " \n",
      "Anaconda (2.0) http://continuum.io/downloads\n",
      "\n",
      "The above includes astropy 0.3.2\n",
      "\n",
      "To update that version to 0.4rc1 (at the OS shell level):\n",
      "\n",
      "    conda install astropy=0.4rc1\n",
      "\n",
      "IPython Notebook is the basis for tutorial material\n",
      "\n",
      " - show of hands: who has never used the IPython notebook?\n",
      " - Tutorial notebooks are available from xxx\n",
      " - Tutorial-related web pages are at xxx\n",
      " - For exercises, note that '<shift>-Return' is needed to execute code cell\n",
      "   - also note that only last item repr is shown (use print for multiple outputs)\n",
      "\n",
      "To obtain the notebooks used for this tutorial, and the associated data, download:\n",
      "\n",
      "http://bit.ly/astropy-scipy2014 (~30 MB zip file)\n",
      "\n",
      "The notebook files themselves can be found under the `notebooks/` subdirectory of that zip file.  The associated data files are under `notebooks/data`.  Many of the examples references data files with relative filenames like `data/<filename>`, launch ipython from within the `notebooks/` directory for best results in resolving filenames."
     ]
    },
    {
     "cell_type": "heading",
     "level": 2,
     "metadata": {},
     "source": [
      "Practical Exercises"
     ]
    },
    {
     "cell_type": "markdown",
     "metadata": {},
     "source": [
      "In general, we will supply enough exercises to fill everyone's time. Depending on background and experience, some will only get the first part or two done; some will get further. The exercises generally increase in sophistication and difficulty. Few will finish all.\n",
      "\n",
      "For the introduction, the exercises are mainly to see that everything is working and installed on your computer\n"
     ]
    },
    {
     "cell_type": "heading",
     "level": 3,
     "metadata": {},
     "source": [
      "Level 1"
     ]
    },
    {
     "cell_type": "markdown",
     "metadata": {},
     "source": [
      " Open the second tutorial session (Unit_Conversion.ipynb). Execute a few code cells\n",
      "\n",
      " "
     ]
    },
    {
     "cell_type": "code",
     "collapsed": false,
     "input": [
      "# example code cell\n",
      "x = 2**10\n",
      "print x"
     ],
     "language": "python",
     "metadata": {},
     "outputs": [],
     "prompt_number": 1
    },
    {
     "cell_type": "heading",
     "level": 3,
     "metadata": {},
     "source": [
      "Level 2"
     ]
    },
    {
     "cell_type": "markdown",
     "metadata": {},
     "source": [
      "Create a new cell and try the following imports\n",
      "\n",
      "\n",
      "    import numpy as np\n",
      "    import astropy.units as u\n",
      "    import astropy.io.fits as iof\n",
      "    import astropy.wcs as wcs\n",
      "    import astropy.io.ascii as ioa\n",
      "    import astropy.coordinates as coord\n",
      "    import astropy.time as time\n",
      "    import matplotlib.pyplot as plt\n",
      "\n",
      "IF any of these don't work, ask for help with checking your installation."
     ]
    },
    {
     "cell_type": "heading",
     "level": 3,
     "metadata": {},
     "source": [
      "Level 3"
     ]
    },
    {
     "cell_type": "markdown",
     "metadata": {},
     "source": [
      "Try executing the following commands within an ipython notebook cell (requires downloading data files and unpacking. Run these commands from the directory that the files are in):\n",
      " \n",
      "    # assumes above imports have been done\n",
      "    hdus = iof.open('data/msx.fits')\n",
      "    plt.imshow(hdus[0].data, vmax=0.0003, origin='lower')\n",
      "  "
     ]
    },
    {
     "cell_type": "heading",
     "level": 3,
     "metadata": {},
     "source": [
      "Level 4"
     ]
    },
    {
     "cell_type": "markdown",
     "metadata": {},
     "source": [
      "Write a python function to compute the first 10\\**100 primes in 5 minutes. Select the most interesting one."
     ]
    }
   ],
   "metadata": {}
  }
 ]
}