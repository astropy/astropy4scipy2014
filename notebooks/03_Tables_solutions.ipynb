{
 "metadata": {
  "name": "",
  "signature": "sha256:2fb39bd376f710857bc40179e7b1f1794f762bb9e00c0ffb2a3a62e188bebe4d"
 },
 "nbformat": 3,
 "nbformat_minor": 0,
 "worksheets": [
  {
   "cells": [
    {
     "cell_type": "heading",
     "level": 1,
     "metadata": {},
     "source": [
      "Tables - solutions"
     ]
    },
    {
     "cell_type": "markdown",
     "metadata": {},
     "source": [
      "* [Back to tutorial home](http://astropy4scipy2014.readthedocs.org/)\n",
      "* [Download raw notebook file](https://github.com/astropy/astropy4scipy2014/raw/master/notebooks/03_Tables_solutions.ipynb)"
     ]
    },
    {
     "cell_type": "code",
     "collapsed": false,
     "input": [
      "%matplotlib inline\n",
      "import matplotlib.pyplot as plt\n",
      "import numpy as np"
     ],
     "language": "python",
     "metadata": {},
     "outputs": []
    },
    {
     "cell_type": "markdown",
     "metadata": {},
     "source": [
      "To start with, read in the two data files representing the master source list and observations source list.  The fields for the two tables are respectively documented in:\n",
      "\n",
      "- [master_sources](http://cxc.harvard.edu/csc/columns/master.html)\n",
      "- [obs_sources](http://cxc.harvard.edu/csc/columns/persrc.html)"
     ]
    },
    {
     "cell_type": "code",
     "collapsed": false,
     "input": [
      "from astropy.table import Table"
     ],
     "language": "python",
     "metadata": {},
     "outputs": []
    },
    {
     "cell_type": "code",
     "collapsed": false,
     "input": [
      "master_sources = Table.read('data/cdfs_master_sources.fits')\n",
      "obs_sources = Table.read('data/cdfs_obs_sources.fits')"
     ],
     "language": "python",
     "metadata": {},
     "outputs": []
    },
    {
     "cell_type": "heading",
     "level": 3,
     "metadata": {},
     "source": [
      "Exploring the data"
     ]
    },
    {
     "cell_type": "markdown",
     "metadata": {},
     "source": [
      "Do the following to explore the two tables:\n",
      "\n",
      "- Display the data for each table in IPython notebook using the normal way of showing the value of a variable.\n",
      "- Get a list of the column names for each table.  *Hint*: use `<TAB>` completion to easily discover all the attributes and methods, e.g. type `master_sources.` and then hit the `<TAB>` key.\n",
      "- Find the length of each table.\n",
      "- Find the column datatypes for each table."
     ]
    },
    {
     "cell_type": "code",
     "collapsed": false,
     "input": [
      "master_sources"
     ],
     "language": "python",
     "metadata": {},
     "outputs": []
    },
    {
     "cell_type": "code",
     "collapsed": false,
     "input": [
      "obs_sources"
     ],
     "language": "python",
     "metadata": {},
     "outputs": []
    },
    {
     "cell_type": "code",
     "collapsed": false,
     "input": [
      "master_sources.colnames"
     ],
     "language": "python",
     "metadata": {},
     "outputs": []
    },
    {
     "cell_type": "code",
     "collapsed": false,
     "input": [
      "obs_sources.colnames"
     ],
     "language": "python",
     "metadata": {},
     "outputs": []
    },
    {
     "cell_type": "code",
     "collapsed": false,
     "input": [
      "len(master_sources)"
     ],
     "language": "python",
     "metadata": {},
     "outputs": []
    },
    {
     "cell_type": "code",
     "collapsed": false,
     "input": [
      "len(obs_sources)"
     ],
     "language": "python",
     "metadata": {},
     "outputs": []
    },
    {
     "cell_type": "code",
     "collapsed": false,
     "input": [
      "master_sources.dtype"
     ],
     "language": "python",
     "metadata": {},
     "outputs": []
    },
    {
     "cell_type": "code",
     "collapsed": false,
     "input": [
      "obs_sources.dtype"
     ],
     "language": "python",
     "metadata": {},
     "outputs": []
    },
    {
     "cell_type": "markdown",
     "metadata": {},
     "source": [
      "Normally one displays a table in IPython notebook by entering the variable name in a cell and pressing `shift-Enter`.  In a terminal session the default method is using something like `print(my_table)`.  In both cases the `Table` object prefers to display only a screenful of data to prevent having a zillion lines of output if the table is huge.  If you really want to see all the data you can use the [Table.pprint](http://astropy.readthedocs.org/en/stable/api/astropy.table.table.Table.html#astropy.table.table.Table.pprint) method.\n",
      "\n",
      "- Display all the rows of the `master_sources` table using its `pprint()` method.\n",
      "- If you are working in a regular terminal window (not IPython notebook), try the `more()` method as well."
     ]
    },
    {
     "cell_type": "code",
     "collapsed": false,
     "input": [
      "master_sources.pprint(max_lines=-1)"
     ],
     "language": "python",
     "metadata": {},
     "outputs": []
    },
    {
     "cell_type": "heading",
     "level": 3,
     "metadata": {},
     "source": [
      "Modifying tables"
     ]
    },
    {
     "cell_type": "markdown",
     "metadata": {},
     "source": [
      "For our analysis we don't actually need the `obi` (observation interval) column in the `obs_sources` table.\n",
      "\n",
      "- Remove the `obi` column from the `obs_sources` table.\n",
      "\n",
      "The `gti_obs` column name is a bit obscure (GTI is a good time interval, FWIW).\n",
      "\n",
      "- Rename the `gti_obs` column to `obs_date`.\n",
      "\n",
      "It would be nice to have a count rate in addition to the source counts.\n",
      "\n",
      "- Add a new column `src_rate_aper_b` which is the source counts divided by observation duration in sec.\n",
      "\n",
      "Some of the sources have a negative net flux in the broad band"
     ]
    },
    {
     "cell_type": "code",
     "collapsed": false,
     "input": [
      "obs_sources.remove_column('obi')"
     ],
     "language": "python",
     "metadata": {},
     "outputs": []
    },
    {
     "cell_type": "code",
     "collapsed": false,
     "input": [
      "obs_sources.rename_column('gti_obs', 'obs_date')"
     ],
     "language": "python",
     "metadata": {},
     "outputs": []
    },
    {
     "cell_type": "code",
     "collapsed": false,
     "input": [
      "obs_sources['src_rate_aper_b'] = obs_sources['src_cnts_aper_b'] / obs_sources['livetime']"
     ],
     "language": "python",
     "metadata": {},
     "outputs": []
    },
    {
     "cell_type": "code",
     "collapsed": false,
     "input": [
      "obs_sources.colnames"
     ],
     "language": "python",
     "metadata": {},
     "outputs": []
    },
    {
     "cell_type": "heading",
     "level": 3,
     "metadata": {},
     "source": [
      "Looking at the observation source data"
     ]
    },
    {
     "cell_type": "markdown",
     "metadata": {},
     "source": [
      "For each source detected in an individual observation (in the `obs_sources` table), let's look at the source flux values.\n",
      "\n",
      "- Use the matplotlib [`hist()`]( http://matplotlib.org/api/pyplot_api.html?highlight=pyplot.hist#matplotlib.pyplot.hist) function to make a histogram of the source fluxes.  Since the fluxes vary by orders of magnitude,\n",
      "  use the `numpy.log10` to put the fluxes in log space.\n",
      "  \n",
      "*HINT*: if you did not start notebook with `--pylab=inline` then try:\n",
      "```\n",
      "import matplotlib.pyplot as plt\n",
      "%matplotlib inline\n",
      "```\n",
      "\n",
      "- Also make the same plot but using only sources within 4 arcmin of the center.  *HINT*: use a boolean mask to select values of `theta` that are less than 4.0."
     ]
    },
    {
     "cell_type": "code",
     "collapsed": false,
     "input": [
      "vals, bins, patches = plt.hist(np.log10(obs_sources['flux_aper_b']), bins=50)\n",
      "ok = obs_sources['theta'] < 4\n",
      "out = plt.hist(np.log10(obs_sources['flux_aper_b'][ok]), bins=bins)"
     ],
     "language": "python",
     "metadata": {},
     "outputs": []
    },
    {
     "cell_type": "heading",
     "level": 3,
     "metadata": {},
     "source": [
      "Join the master_sources and obs_sources tables"
     ]
    },
    {
     "cell_type": "markdown",
     "metadata": {},
     "source": [
      "The `master_sources` and `obs_sources` tables share a common `msid` column. What we now want is to join the master RA and Dec positions and master source names with the individual observations table.\n",
      "\n",
      "- Use the [table.join()](http://astropy.readthedocs.org/en/stable/table/operations.html#join) function to make a single table called `sources` that has the master RA, Dec, and name included for each observation source.\n",
      "\n",
      "*HINT*: the defaults for `keys` and `join_type='inner'`  are correct in this case, so the simplest possible call to `join()` will work!\n",
      "\n",
      "- *Intermediate*: Is the length of the new `sources` the same as `obs_sources`?  What happened?\n",
      "\n",
      "- *Advanced*: Make a scatter plot of the RA (x-axis) and Dec (y-axis) difference between the master source position and the observation source position.  You'll need to use `coordinates`!"
     ]
    },
    {
     "cell_type": "code",
     "collapsed": false,
     "input": [
      "from astropy.table import join"
     ],
     "language": "python",
     "metadata": {},
     "outputs": []
    },
    {
     "cell_type": "code",
     "collapsed": false,
     "input": [
      "sources = join(master_sources, obs_sources)"
     ],
     "language": "python",
     "metadata": {},
     "outputs": []
    },
    {
     "cell_type": "code",
     "collapsed": false,
     "input": [
      "print(len(sources), len(obs_sources))"
     ],
     "language": "python",
     "metadata": {},
     "outputs": []
    },
    {
     "cell_type": "code",
     "collapsed": false,
     "input": [
      "# Some of the obs_sources had an `msid` value that is not in the `master_sources` table"
     ],
     "language": "python",
     "metadata": {},
     "outputs": []
    },
    {
     "cell_type": "code",
     "collapsed": false,
     "input": [
      "from astropy.coordinates import SkyCoord"
     ],
     "language": "python",
     "metadata": {},
     "outputs": []
    },
    {
     "cell_type": "code",
     "collapsed": false,
     "input": [
      "master_c = SkyCoord(sources['ra'], sources['dec'], unit='hourangle,deg', frame='icrs')\n",
      "obs_c = SkyCoord(sources['ra_b'], sources['dec_b'], unit='hourangle,deg', frame='icrs')"
     ],
     "language": "python",
     "metadata": {},
     "outputs": []
    },
    {
     "cell_type": "code",
     "collapsed": false,
     "input": [
      "plt.plot((master_c.ra - obs_c.ra).value, (master_c.dec - obs_c.dec).value, '.')"
     ],
     "language": "python",
     "metadata": {},
     "outputs": []
    },
    {
     "cell_type": "heading",
     "level": 3,
     "metadata": {},
     "source": [
      "Grouped properties of `sources`"
     ]
    },
    {
     "cell_type": "markdown",
     "metadata": {},
     "source": [
      "Finally, we can look at the variability properties of sources in the CDFS using the [`group_by()`](http://astropy.readthedocs.org/en/stable/table/operations.html#id2) functionality.  \n",
      "\n",
      "This method makes a new table in which all the sources with identical master ID are next to each other.\n",
      "\n",
      "- Make a new table `g_sources` which is the `sources` table grouped by the `msid` key using the `group_by()` method.\n",
      "\n",
      "The `g_sources` table is just a regular table with all the `sources` in a particular order.  The attribute `g_sources.groups` is an object that provides access to the `msid` sub-groups.  You can access the $i^{th}$ group with `g_sources.groups[i]`.\n",
      "\n",
      "In addition the `g_sources.groups.indices` attribute is an array with the indicies of the group boundaries.\n",
      "\n",
      "- Using `np.diff()` find the number of repeat observations of each master sources.  *HINT*: use the indices, Luke.\n",
      "- Print the 50th group and note which columns are the same for all group members and which are different.  Does this make sense?  In these few observations how many different target names were provided by observers?"
     ]
    },
    {
     "cell_type": "code",
     "collapsed": false,
     "input": [
      "g_sources = sources.group_by('msid')"
     ],
     "language": "python",
     "metadata": {},
     "outputs": []
    },
    {
     "cell_type": "code",
     "collapsed": false,
     "input": [
      "np.diff(g_sources.groups.indices)"
     ],
     "language": "python",
     "metadata": {},
     "outputs": []
    },
    {
     "cell_type": "code",
     "collapsed": false,
     "input": [
      "g_sources.groups[50]"
     ],
     "language": "python",
     "metadata": {},
     "outputs": []
    },
    {
     "cell_type": "heading",
     "level": 4,
     "metadata": {},
     "source": [
      "Aggregation"
     ]
    },
    {
     "cell_type": "markdown",
     "metadata": {},
     "source": [
      "The real power of grouping comes in the ability to create aggregate values for each of the groups, for instance the mean flux for each unique source.  This is done with the [`aggregate()`](http://astropy.readthedocs.org/en/stable/table/operations.html#aggregation) method, which takes a function reference as its input.  This function must take as input an array of values and return a single value.\n",
      "\n",
      "Aggregate returns a new table that has a length equal to the number of groups.\n",
      "\n",
      "- Compute the mean of all columns for each unique source (i.e. each group) using `aggregate` and the `np.mean` function.  Call this table `g_sources_mean`.\n",
      "- Notice that aggregation cannot form a mean for certain columns and these are dropped from the output.  Use the `join()` function to restore the `master_sources` information to `g_sources_mean`."
     ]
    },
    {
     "cell_type": "code",
     "collapsed": false,
     "input": [
      "g_sources_mean = g_sources.groups.aggregate(np.mean)"
     ],
     "language": "python",
     "metadata": {},
     "outputs": []
    },
    {
     "cell_type": "code",
     "collapsed": false,
     "input": [
      "g_sources_mean"
     ],
     "language": "python",
     "metadata": {},
     "outputs": []
    },
    {
     "cell_type": "code",
     "collapsed": false,
     "input": [
      "g_sources_mean = join(master_sources, g_sources_mean)"
     ],
     "language": "python",
     "metadata": {},
     "outputs": []
    },
    {
     "cell_type": "code",
     "collapsed": false,
     "input": [
      "g_sources_mean"
     ],
     "language": "python",
     "metadata": {},
     "outputs": []
    },
    {
     "cell_type": "markdown",
     "metadata": {},
     "source": [
      "[Back to top](#Tables---solutions)"
     ]
    }
   ],
   "metadata": {}
  }
 ]
}