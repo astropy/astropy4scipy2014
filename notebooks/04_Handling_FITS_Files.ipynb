{
 "metadata": {
  "name": "",
  "signature": "sha256:aa3dd69db10bdd030995da7f3d62be233ff5faa0f5e851ab0dd51a4a341917d0"
 },
 "nbformat": 3,
 "nbformat_minor": 0,
 "worksheets": [
  {
   "cells": [
    {
     "cell_type": "heading",
     "level": 1,
     "metadata": {},
     "source": [
      "Handling FITS files"
     ]
    },
    {
     "cell_type": "markdown",
     "metadata": {},
     "source": [
      "* [Back to tutorial home](http://astropy4scipy2014.readthedocs.org/)\n",
      "* [Download raw notebook file](https://github.com/astropy/astropy4scipy2014/raw/master/notebooks/04_Handling_FITS_Files.ipynb)"
     ]
    },
    {
     "cell_type": "code",
     "collapsed": false,
     "input": [
      "%matplotlib inline\n",
      "import matplotlib.pyplot as plt"
     ],
     "language": "python",
     "metadata": {},
     "outputs": [],
     "prompt_number": 1
    },
    {
     "cell_type": "markdown",
     "metadata": {},
     "source": [
      "Documentation\n",
      "-------------\n",
      "\n",
      "For more information about the features presented below, you can read the\n",
      "[astropy.io.fits](http://docs.astropy.org/en/stable/io/fits/index.html) docs.\n",
      "\n",
      "Data\n",
      "----\n",
      "\n",
      "The data used in this page is a [model of the gamma-ray sky background](data/gll_iem_v02_P6_V11_DIFFUSE.fit) used for the LAT instrument on the Fermi telescope, as well as the *Fermi*/LAT [point source catalog](data/gll_psc_v08.fit).\n",
      "\n",
      "Reading FITS files and accessing data\n",
      "-------------------------------------\n",
      "\n",
      "Opening a FITS file is relatively straightforward. We can open the\n",
      "background model included in the tutorial files:"
     ]
    },
    {
     "cell_type": "code",
     "collapsed": false,
     "input": [
      "from astropy.io import fits"
     ],
     "language": "python",
     "metadata": {},
     "outputs": [],
     "prompt_number": 2
    },
    {
     "cell_type": "code",
     "collapsed": false,
     "input": [
      "hdulist = fits.open('data/gll_iem_v02_P6_V11_DIFFUSE.fit')"
     ],
     "language": "python",
     "metadata": {},
     "outputs": [],
     "prompt_number": 3
    },
    {
     "cell_type": "markdown",
     "metadata": {},
     "source": [
      "The returned object, ``hdulist``, behaves like a Python list, and each element\n",
      "maps to a Header-Data Unit (HDU) in the FITS file. You can view more\n",
      "information about the FITS file with:"
     ]
    },
    {
     "cell_type": "code",
     "collapsed": false,
     "input": [
      "hdulist.info()"
     ],
     "language": "python",
     "metadata": {},
     "outputs": [],
     "prompt_number": 4
    },
    {
     "cell_type": "markdown",
     "metadata": {},
     "source": [
      "As we can see, this file contains two HDUs. To access the primary HDU, which\n",
      "contains the main data, you can then do:"
     ]
    },
    {
     "cell_type": "code",
     "collapsed": false,
     "input": [
      "hdu = hdulist[0]"
     ],
     "language": "python",
     "metadata": {},
     "outputs": [],
     "prompt_number": 5
    },
    {
     "cell_type": "markdown",
     "metadata": {},
     "source": [
      "The ``hdu`` object then has two important attributes: ``data``, which behaves\n",
      "like a Numpy array, can be used to access the data, and ``header``, which\n",
      "behaves like a dictionary, can be used to access the header information.\n",
      "First, we can take a look at the data:"
     ]
    },
    {
     "cell_type": "code",
     "collapsed": false,
     "input": [
      "hdu.data.shape"
     ],
     "language": "python",
     "metadata": {},
     "outputs": [],
     "prompt_number": 6
    },
    {
     "cell_type": "markdown",
     "metadata": {},
     "source": [
      "This tells us that it is a 3-d cube. We can now take a peak at the header:"
     ]
    },
    {
     "cell_type": "code",
     "collapsed": false,
     "input": [
      "hdu.header"
     ],
     "language": "python",
     "metadata": {},
     "outputs": [],
     "prompt_number": 7
    },
    {
     "cell_type": "markdown",
     "metadata": {},
     "source": [
      "which shows that this is a Plate Carr\u00e9e (``-CAR``) projection in Galactic\n",
      "Coordinates, and the third axis is photon energy. We can access individual\n",
      "header keywords using standard item notation:"
     ]
    },
    {
     "cell_type": "code",
     "collapsed": false,
     "input": [
      "hdu.header['TELESCOP']"
     ],
     "language": "python",
     "metadata": {},
     "outputs": [],
     "prompt_number": 8
    },
    {
     "cell_type": "code",
     "collapsed": false,
     "input": [
      "hdu.header['INSTRUME']"
     ],
     "language": "python",
     "metadata": {},
     "outputs": [],
     "prompt_number": 9
    },
    {
     "cell_type": "markdown",
     "metadata": {},
     "source": [
      "Provided that we started up ``ipython`` with the ``--pylab`` flag, we can plot\n",
      "one of the slices in photon energy:"
     ]
    },
    {
     "cell_type": "code",
     "collapsed": false,
     "input": [
      "plt.imshow(hdu.data[0,:,:], origin='lower')"
     ],
     "language": "python",
     "metadata": {},
     "outputs": [],
     "prompt_number": 10
    },
    {
     "cell_type": "markdown",
     "metadata": {},
     "source": [
      "Note that this is just a plot of an array, so the coordinates are just pixel\n",
      "coordinates at this stage. The data is stored with longitude increasing to the\n",
      "right (the opposite of the normal convention), but the Level 3 problem at the\n",
      "bottom of this page shows how to correctly flip the image.\n",
      "\n",
      "Modifying data or header information in a FITS file object is easy. We can\n",
      "update existing header keywords:"
     ]
    },
    {
     "cell_type": "code",
     "collapsed": false,
     "input": [
      "hdu.header['TELESCOP'] = \"Fermi Gamma-ray Space Telescope\""
     ],
     "language": "python",
     "metadata": {},
     "outputs": [],
     "prompt_number": 11
    },
    {
     "cell_type": "markdown",
     "metadata": {},
     "source": [
      "or add new ones:"
     ]
    },
    {
     "cell_type": "code",
     "collapsed": false,
     "input": [
      "hdu.header['MODIFIED'] = '21 Nov 2013'  # adds a new keyword"
     ],
     "language": "python",
     "metadata": {},
     "outputs": [],
     "prompt_number": 12
    },
    {
     "cell_type": "markdown",
     "metadata": {},
     "source": [
      "and we can also change the data, for example extracting only the first slice\n",
      "in photon energy:"
     ]
    },
    {
     "cell_type": "code",
     "collapsed": false,
     "input": [
      "hdu.data = hdu.data[0,:,:]"
     ],
     "language": "python",
     "metadata": {},
     "outputs": [],
     "prompt_number": 13
    },
    {
     "cell_type": "markdown",
     "metadata": {},
     "source": [
      "Note that this does not change the original FITS file, simply the FITS file\n",
      "object in memory. Since the data is now 2-dimensional, we can remove the WCS keywords for the third dimension:"
     ]
    },
    {
     "cell_type": "code",
     "collapsed": false,
     "input": [
      "hdu.header.remove('CRPIX3')\n",
      "hdu.header.remove('CRVAL3')\n",
      "hdu.header.remove('CDELT3')\n",
      "hdu.header.remove('CUNIT3')\n",
      "hdu.header.remove('CTYPE3')"
     ],
     "language": "python",
     "metadata": {},
     "outputs": [],
     "prompt_number": 14
    },
    {
     "cell_type": "markdown",
     "metadata": {},
     "source": [
      "You can write the FITS file object to a file with:"
     ]
    },
    {
     "cell_type": "code",
     "collapsed": false,
     "input": [
      "hdu.writeto('lat_background_model_slice.fits', clobber=True)"
     ],
     "language": "python",
     "metadata": {},
     "outputs": [],
     "prompt_number": 15
    },
    {
     "cell_type": "markdown",
     "metadata": {},
     "source": [
      "if you want to simply write out this HDU to a file, or:"
     ]
    },
    {
     "cell_type": "code",
     "collapsed": false,
     "input": [
      "hdulist.writeto('lat_background_model_slice_allhdus.fits', clobber=True)"
     ],
     "language": "python",
     "metadata": {},
     "outputs": [],
     "prompt_number": 16
    },
    {
     "cell_type": "markdown",
     "metadata": {},
     "source": [
      "if you want to write out all of the original HDUs, including the modified one,\n",
      "to a file.\n",
      "\n",
      "Creating a FITS file from scratch\n",
      "---------------------------------\n",
      "\n",
      "If you want to create a FITS file from scratch, you need to start off by creating an HDU object:"
     ]
    },
    {
     "cell_type": "code",
     "collapsed": false,
     "input": [
      "hdu = fits.PrimaryHDU()"
     ],
     "language": "python",
     "metadata": {},
     "outputs": [],
     "prompt_number": 17
    },
    {
     "cell_type": "markdown",
     "metadata": {},
     "source": [
      "and you can then populate the data and header attributes with whatever information you like:"
     ]
    },
    {
     "cell_type": "code",
     "collapsed": false,
     "input": [
      "import numpy as np"
     ],
     "language": "python",
     "metadata": {},
     "outputs": [],
     "prompt_number": 18
    },
    {
     "cell_type": "code",
     "collapsed": false,
     "input": [
      "hdu.data = np.random.random((128,128))"
     ],
     "language": "python",
     "metadata": {},
     "outputs": [],
     "prompt_number": 19
    },
    {
     "cell_type": "markdown",
     "metadata": {},
     "source": [
      "Note that setting the data automatically populates the header with basic information:"
     ]
    },
    {
     "cell_type": "code",
     "collapsed": false,
     "input": [
      "hdu.header"
     ],
     "language": "python",
     "metadata": {},
     "outputs": [],
     "prompt_number": 20
    },
    {
     "cell_type": "markdown",
     "metadata": {},
     "source": [
      "and you should never have to set header keywords such as ``NAXIS``, ``NAXIS1``, and so on manually. We can then set additional header keywords:"
     ]
    },
    {
     "cell_type": "code",
     "collapsed": false,
     "input": [
      "hdu.header['telescop'] = 'Python Observatory'"
     ],
     "language": "python",
     "metadata": {},
     "outputs": [],
     "prompt_number": 21
    },
    {
     "cell_type": "markdown",
     "metadata": {},
     "source": [
      "and we can then write out the FITS file to disk:"
     ]
    },
    {
     "cell_type": "code",
     "collapsed": false,
     "input": [
      "hdu.writeto('random_array.fits', clobber=True)"
     ],
     "language": "python",
     "metadata": {},
     "outputs": [],
     "prompt_number": 22
    },
    {
     "cell_type": "markdown",
     "metadata": {},
     "source": [
      "Convenience functions\n",
      "---------------------\n",
      "\n",
      "In cases where you just want to access the data or header in a specific HDU,\n",
      "you can use the following convenience functions:"
     ]
    },
    {
     "cell_type": "code",
     "collapsed": false,
     "input": [
      "data = fits.getdata('data/gll_iem_v02_P6_V11_DIFFUSE.fit')\n",
      "header = fits.getheader('data/gll_iem_v02_P6_V11_DIFFUSE.fit')"
     ],
     "language": "python",
     "metadata": {},
     "outputs": [],
     "prompt_number": 23
    },
    {
     "cell_type": "markdown",
     "metadata": {},
     "source": [
      "To get the data or header for an HDU other than the first, you can specify the\n",
      "extension name or index. The second HDU is called ``energies``, so we can do:"
     ]
    },
    {
     "cell_type": "code",
     "collapsed": false,
     "input": [
      "data = fits.getdata('data/gll_iem_v02_P6_V11_DIFFUSE.fit', extname='energies')"
     ],
     "language": "python",
     "metadata": {},
     "outputs": [],
     "prompt_number": 24
    },
    {
     "cell_type": "markdown",
     "metadata": {},
     "source": [
      "or:"
     ]
    },
    {
     "cell_type": "code",
     "collapsed": false,
     "input": [
      "data = fits.getdata('data/gll_iem_v02_P6_V11_DIFFUSE.fit', ext=1)"
     ],
     "language": "python",
     "metadata": {},
     "outputs": [],
     "prompt_number": 25
    },
    {
     "cell_type": "markdown",
     "metadata": {},
     "source": [
      "and similarly for ``getheader``.\n",
      "\n",
      "Accessing Tabular Data\n",
      "----------------------\n",
      "\n",
      "Tabular data behaves very similarly to image data such as that shown above,\n",
      "but the data array is a structured Numpy array which requires column access\n",
      "via the item notation:"
     ]
    },
    {
     "cell_type": "code",
     "collapsed": false,
     "input": [
      "from astropy.io import fits\n",
      "hdulist = fits.open('data/gll_psc_v08.fit')"
     ],
     "language": "python",
     "metadata": {},
     "outputs": [],
     "prompt_number": 26
    },
    {
     "cell_type": "code",
     "collapsed": false,
     "input": [
      "hdulist[1].name"
     ],
     "language": "python",
     "metadata": {},
     "outputs": [],
     "prompt_number": 27
    },
    {
     "cell_type": "code",
     "collapsed": false,
     "input": [
      "hdulist[1].data['RAJ2000']"
     ],
     "language": "python",
     "metadata": {},
     "outputs": [],
     "prompt_number": 28
    },
    {
     "cell_type": "code",
     "collapsed": false,
     "input": [
      "hdulist[1].data['DEJ2000']"
     ],
     "language": "python",
     "metadata": {},
     "outputs": [],
     "prompt_number": 29
    },
    {
     "cell_type": "markdown",
     "metadata": {},
     "source": [
      "Practical Exercises\n",
      "-------------------\n",
      "\n",
      "### Level 1\n",
      "\n",
      "Try and read in one of your own FITS files using ``astropy.io.fits``, and\n",
      "see if you can also plot the array values in Matplotlib. Also, examine the\n",
      "header, and try and extract individual values. You can even try and modify\n",
      "the data/header and write the data back out - but take care not to write\n",
      "over the original file!\n",
      "\n",
      "### Level 2\n",
      "\n",
      "Read in the LAT Point Source Catalog and make a scatter plot of the\n",
      "Galactic Coordinates of the sources (complete with axis labels). Bonus\n",
      "points if you can make the plot go between -180 and 180 instead of 0 and\n",
      "360 degrees. Note that the Point Source Catalog contains the Galactic\n",
      "Coordinates, so no need to convert them.\n",
      "    \n",
      "### Level 3\n",
      "\n",
      "Using Matplotlib, make an all-sky plot of the LAT Background Model in the\n",
      "Plate Car\u00e9e projection showing the LAT Point Source Catalog overlaid with\n",
      "markers, and with the correct coordinates on the axes. You should do this\n",
      "using only ``astropy.io.fits``, Numpy, and Matplotlib (no WCS or\n",
      "coordinate conversion library). Hint: the -CAR projection is such that the\n",
      "x pixel position is proportional to longitude, and the y pixel position to\n",
      "latitude. Bonus points for a pretty colormap."
     ]
    },
    {
     "cell_type": "markdown",
     "metadata": {},
     "source": [
      "[Back to top](#Handling-FITS-files)"
     ]
    }
   ],
   "metadata": {}
  }
 ]
}