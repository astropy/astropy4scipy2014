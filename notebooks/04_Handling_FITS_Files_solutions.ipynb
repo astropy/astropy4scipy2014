{
 "metadata": {
  "name": "",
  "signature": "sha256:18199964821341c026e933aab2f5618f6c0bf0b17282ceec4493931a143fb146"
 },
 "nbformat": 3,
 "nbformat_minor": 0,
 "worksheets": [
  {
   "cells": [
    {
     "cell_type": "heading",
     "level": 1,
     "metadata": {},
     "source": [
      "Handling FITS files - Solutions"
     ]
    },
    {
     "cell_type": "markdown",
     "metadata": {},
     "source": [
      "* [Back to tutorial home](http://astropy4scipy2014.readthedocs.org/)\n",
      "* [Download raw notebook file](https://github.com/astropy/astropy4scipy2014/raw/master/notebooks/04_Handling_FITS_Files_solutions.ipynb)"
     ]
    },
    {
     "cell_type": "code",
     "collapsed": false,
     "input": [
      "%matplotlib inline"
     ],
     "language": "python",
     "metadata": {},
     "outputs": [],
     "prompt_number": 1
    },
    {
     "cell_type": "markdown",
     "metadata": {},
     "source": [
      "Level 2\n",
      "-------"
     ]
    },
    {
     "cell_type": "code",
     "collapsed": false,
     "input": [
      "from astropy.io import fits\n",
      "from matplotlib import pyplot as plt"
     ],
     "language": "python",
     "metadata": {},
     "outputs": [],
     "prompt_number": 1
    },
    {
     "cell_type": "code",
     "collapsed": false,
     "input": [
      "# Read in Point Source Catalog\n",
      "hdulist = fits.open('data/gll_psc_v08.fit')\n",
      "psc = hdulist[1].data\n",
      "\n",
      "# Extract Galactic Coordinates\n",
      "l = hdulist[1].data['GLON']\n",
      "b = hdulist[1].data['GLAT']\n",
      "\n",
      "# Coordinates from 0 to 360, wrap to -180 to 180 to match image\n",
      "l[l > 180.] -= 360.\n",
      "\n",
      "# Plot the image\n",
      "fig = plt.figure()\n",
      "ax = fig.add_subplot(1, 1, 1, aspect='equal')\n",
      "ax.scatter(l, b)\n",
      "ax.set_xlim(180., -180.)\n",
      "ax.set_ylim(-90., 90.)\n",
      "ax.set_xlabel('Galactic Longitude')\n",
      "ax.set_ylabel('Galactic Latitude')"
     ],
     "language": "python",
     "metadata": {},
     "outputs": [],
     "prompt_number": 2
    },
    {
     "cell_type": "markdown",
     "metadata": {},
     "source": [
      "Level 3\n",
      "-------"
     ]
    },
    {
     "cell_type": "code",
     "collapsed": false,
     "input": [
      "from astropy.io import fits\n",
      "from matplotlib import pyplot as plt"
     ],
     "language": "python",
     "metadata": {},
     "outputs": [],
     "prompt_number": 3
    },
    {
     "cell_type": "code",
     "collapsed": false,
     "input": [
      "# Read in Background Model\n",
      "hdulist = fits.open('data/gll_iem_v02_P6_V11_DIFFUSE.fit')\n",
      "bg = hdulist[0].data[0, :, :]\n",
      "\n",
      "# Read in Point Source Catalog\n",
      "hdulist = fits.open('data/gll_psc_v08.fit')\n",
      "psc = hdulist[1].data\n",
      "\n",
      "# Extract Galactic Coordinates\n",
      "l = hdulist[1].data['GLON']\n",
      "b = hdulist[1].data['GLAT']\n",
      "\n",
      "# Coordinates from 0 to 360, wrap to -180 to 180 to match image\n",
      "l[l > 180.] -= 360.\n",
      "\n",
      "# Plot the image\n",
      "fig = plt.figure()\n",
      "ax = fig.add_subplot(1, 1, 1)\n",
      "ax.imshow(bg ** 0.5, extent=[-180., 180., -90., 90.], cmap=plt.cm.gist_heat,\n",
      "          origin='lower', vmin=0, vmax=2e-3)\n",
      "ax.scatter(l, b, s=10, edgecolor='none', facecolor='blue', alpha=0.5)\n",
      "ax.set_xlim(180., -180.)\n",
      "ax.set_ylim(-90., 90.)\n",
      "ax.set_xlabel('Galactic Longitude')\n",
      "ax.set_ylabel('Galactic Latitude')"
     ],
     "language": "python",
     "metadata": {},
     "outputs": [],
     "prompt_number": 4
    },
    {
     "cell_type": "markdown",
     "metadata": {},
     "source": [
      "[Back to top](#Handling-FITS-files---Solutions)"
     ]
    }
   ],
   "metadata": {}
  }
 ]
}