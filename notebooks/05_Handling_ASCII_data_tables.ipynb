{
 "metadata": {
  "name": "",
  "signature": "sha256:d10bac5794f37188450cb9cd60dfee3ef4240a836ec16df9b900ce059bd3750d"
 },
 "nbformat": 3,
 "nbformat_minor": 0,
 "worksheets": [
  {
   "cells": [
    {
     "cell_type": "heading",
     "level": 1,
     "metadata": {},
     "source": [
      "Handling ASCII table files"
     ]
    },
    {
     "cell_type": "markdown",
     "metadata": {},
     "source": [
      "* [Back to tutorial home](http://astropy4scipy2014.readthedocs.org/)\n",
      "* [Download raw notebook file](https://github.com/astropy/astropy4scipy2014/raw/master/notebooks/05_Handling_ASCII_data_tables.ipynb)"
     ]
    },
    {
     "cell_type": "markdown",
     "metadata": {},
     "source": [
      "An **ASCII data table** refers to a tabular data set where the values are encoded in ASCII and  are written in a row-oriented format where each table row is (effectively) on one line.  Frequently these data files are somewhat free format in nature and do not conform to precisely definition standards such as FITS.  \n",
      "\n",
      "ASCII data tables are a fact of life for scientists and you need to be able to read and write them effectively."
     ]
    },
    {
     "cell_type": "heading",
     "level": 2,
     "metadata": {},
     "source": [
      "`astropy.io.ascii`"
     ]
    },
    {
     "cell_type": "markdown",
     "metadata": {},
     "source": [
      "The [astropy.io.ascii](http://astropy.readthedocs.org/en/stable/io/ascii/index.html) package provides methods for reading and writing a wide range of ASCII data table formats from basic character-separated tables to astronomy-specific or even application-specific formats.  \n",
      "\n",
      "This package isn't the fastest ASCII table reader/writer available, but it is one of the most flexible and most of the time it should just work out of the box.  *[About speed, there is a Google Summer of Code 2014 student working on making it fast!]*\n",
      "\n",
      "The following shows a few of the ASCII formats that are available, while the section on [Supported formats](http://astropy.readthedocs.org/en/stable/io/ascii/index.html#id1) contains the full list.\n",
      "\n",
      "Format | Description\n",
      "------- | -------------\n",
      "[Basic](http://astropy.readthedocs.org/en/stable/api/astropy.io.ascii.basic.Basic.html) | basic table with customizable delimiters and header configurations\n",
      "[CDS](http://astropy.readthedocs.org/en/stable/api/astropy.io.ascii.cds.Cds.html) | [CDS format](http://vizier.u-strasbg.fr/doc/catstd.htx) table (also Vizier and ApJ machine readable tables)\n",
      "[DAOphot](http://astropy.readthedocs.org/en/stable/api/astropy.io.ascii.daophot.Daophot.html) | table from the IRAF DAOphot package\n",
      "[Fixed width](http://astropy.readthedocs.org/en/stable/api/astropy.io.ascii.fixedwidth.FixedWidth.html)| table with fixed-width columns (see also [Fixed-width Gallery](http://astropy.readthedocs.org/en/stable/io/ascii/fixed_width_gallery.html))\n",
      "[IPAC](http://astropy.readthedocs.org/en/stable/api/astropy.io.ascii.ipac.Ipac.html) | [IPAC format](http://irsa.ipac.caltech.edu/applications/DDGEN/Doc/ipac_tbl.html) table\n",
      "[LaTex](http://astropy.readthedocs.org/en/stable/api/astropy.io.ascii.latex.Latex.html) | LaTeX table with data in the tabular environment\n",
      "[SExtractor](http://astropy.readthedocs.org/en/stable/api/astropy.io.ascii.sextractor.SExtractor.html) | SExtractor format table"
     ]
    },
    {
     "cell_type": "heading",
     "level": 3,
     "metadata": {},
     "source": [
      "Choice of interface"
     ]
    },
    {
     "cell_type": "markdown",
     "metadata": {},
     "source": [
      "There are two equally valid ways of reading and writing ASCII tables within astropy:\n",
      "\n",
      "- Directly use the `astropy.io.ascii` module\n",
      "- Use the [Unified I/O interface]() with the Table class\n",
      "\n",
      "Internally there is no difference since they both end up calling the `astropy.io.ascii` routines.  It depends somewhat on your taste:\n",
      "\n",
      "**Functional interface**\n",
      "```python\n",
      ">>> from astropy.io import ascii\n",
      ">>> pets = ascii.read(data)\n",
      ">>> ascii.write(pets, 'pets.tex', format='latex')  # format='<format_name>'\n",
      "```\n",
      "**Table interface**\n",
      "```python\n",
      ">>> from astropy.table import Table\n",
      ">>> pets = Table.read(data, format='ascii')  # format='ascii'\n",
      ">>> pets.write('pets.tex', format='ascii.latex')  # format='ascii.<format_name>'\n",
      "```\n",
      "\n",
      "**Overall we recommend using the Table interface**, because this also lets you read and write many tables in FITS or VOTable format using the same syntax.  Note that for ASCII tables there is *absolutely no functional* difference between the interfaces, while for FITS and VOTable the direct interfaces (`astropy.io.fits` and `astropy.io.votable`) have more functionality than the `Table` interface."
     ]
    },
    {
     "cell_type": "heading",
     "level": 2,
     "metadata": {},
     "source": [
      "Reading tables"
     ]
    },
    {
     "cell_type": "markdown",
     "metadata": {},
     "source": [
      "First example:"
     ]
    },
    {
     "cell_type": "code",
     "collapsed": false,
     "input": [
      "import numpy as np\n",
      "from astropy.table import Table"
     ],
     "language": "python",
     "metadata": {},
     "outputs": [],
     "prompt_number": 1
    },
    {
     "cell_type": "code",
     "collapsed": false,
     "input": [
      "lines = \"\"\"animal        number\n",
      "           \"siamese cat\"    1   \n",
      "             dog            3   \"\"\"\n",
      "\n",
      "pets = Table.read(lines, format='ascii')\n",
      "pets"
     ],
     "language": "python",
     "metadata": {},
     "outputs": [],
     "prompt_number": 2
    },
    {
     "cell_type": "heading",
     "level": 3,
     "metadata": {},
     "source": [
      "Arguments to `read()`"
     ]
    },
    {
     "cell_type": "markdown",
     "metadata": {},
     "source": [
      "The online documentation on [Parameters for reading](http://astropy.readthedocs.org/en/stable/io/ascii/read.html#parameters-for-read) has more information."
     ]
    },
    {
     "cell_type": "heading",
     "level": 5,
     "metadata": {},
     "source": [
      "`table` argument -- Show me the table"
     ]
    },
    {
     "cell_type": "markdown",
     "metadata": {},
     "source": [
      "The required first argument for every table read call is `table`, which provides access to the actual table data.  It can be provided several different formats:\n",
      "\n",
      "- Name of a file (string)\n",
      "- Single string containing all table lines separated by newlines\n",
      "- File-like object with a callable read() method\n",
      "- List of strings where each list element is a table line"
     ]
    },
    {
     "cell_type": "heading",
     "level": 5,
     "metadata": {},
     "source": [
      "`format` argument -- What's the format Kenneth?"
     ]
    },
    {
     "cell_type": "markdown",
     "metadata": {},
     "source": [
      "This specifies the file format, with available options describe in [Supported Formats]( http://astropy.readthedocs.org/en/stable/io/ascii/index.html#id1).\n",
      "\n",
      "- `Table.read()`: specifying `format='ascii'` is the generic \"try to guess the format\" option, or `format='ascii.<format_name>'`.\n",
      "- `ascii.read()`: do not provide `format` for the generic \"guess the format\" option, or `format='<format_name>'`."
     ]
    },
    {
     "cell_type": "code",
     "collapsed": false,
     "input": [
      "lines = [r'\\begin{table}',\n",
      "         r'\\begin{tabular}{ l c r }',\n",
      "         r'X & Y & Z \\\\',\n",
      "         r'1 & 2 & 3 \\\\',\n",
      "         r'4 & 5 & 6 \\\\',\n",
      "         r'7 & 8 & 9 \\\\',\n",
      "         r'\\end{tabular}',\n",
      "         r'\\end{table}']\n",
      "t = Table.read(lines, format='ascii.latex')\n",
      "t"
     ],
     "language": "python",
     "metadata": {},
     "outputs": [],
     "prompt_number": 3
    },
    {
     "cell_type": "heading",
     "level": 5,
     "metadata": {},
     "source": [
      "`guess` argument -- To guess or not to guess"
     ]
    },
    {
     "cell_type": "markdown",
     "metadata": {},
     "source": [
      "The default behavior of `ascii.read()` is that it tries to guess the table format.  This often works:"
     ]
    },
    {
     "cell_type": "code",
     "collapsed": false,
     "input": [
      "Table.read(['# a | b',  # Commented header contains column names\n",
      "            '1 | 2'], \n",
      "           format='ascii')"
     ],
     "language": "python",
     "metadata": {},
     "outputs": [],
     "prompt_number": 4
    },
    {
     "cell_type": "markdown",
     "metadata": {},
     "source": [
      "The reader uses the [Will it blend](http://www.willitblend.com/) strategy in reverse: throw the input data into each format reader and see if something nice comes out.  \n",
      "\n",
      "- Most of the time the reader gives garbage or an exception, but the first time a reader returns a nice looking table then guessing stops and that table is returned.  \n",
      "- The order of input formats is carefully tuned to maximize the likelihood of guessing the right format.  \n",
      "- The concept of what makes a \"nice looking table\" also relies on some assumptions that may not always be the case.\n",
      "\n",
      "Guessing doesn't always work:"
     ]
    },
    {
     "cell_type": "code",
     "collapsed": false,
     "input": [
      "lines = ['year & event',\n",
      "         '2015 & Pigs fly']\n",
      "try:\n",
      "    Table.read(lines, format='ascii')\n",
      "except Exception as err:\n",
      "    print(err)"
     ],
     "language": "python",
     "metadata": {},
     "outputs": [],
     "prompt_number": 5
    },
    {
     "cell_type": "markdown",
     "metadata": {},
     "source": [
      "* * *\n",
      "When this happens you need to give `ascii.read` a bit of help.  The first step is to turn off guessing and provide what you think is the right format.  In this case this is a character-delimited table (using `&`)."
     ]
    },
    {
     "cell_type": "code",
     "collapsed": false,
     "input": [
      "try:\n",
      "    Table.read(lines, format='ascii.basic', guess=False)\n",
      "except Exception as err:\n",
      "    print(err)"
     ],
     "language": "python",
     "metadata": {},
     "outputs": [],
     "prompt_number": 6
    },
    {
     "cell_type": "code",
     "collapsed": false,
     "input": [
      "Table.read(lines, format='ascii.basic', delimiter='&', guess=False)"
     ],
     "language": "python",
     "metadata": {},
     "outputs": [],
     "prompt_number": 7
    },
    {
     "cell_type": "markdown",
     "metadata": {},
     "source": [
      "* * *"
     ]
    },
    {
     "cell_type": "heading",
     "level": 5,
     "metadata": {},
     "source": [
      "`delimiter`, `comment`, and `quotechar` -- Define table characteristics"
     ]
    },
    {
     "cell_type": "markdown",
     "metadata": {},
     "source": [
      "These arguments mostly apply to the `basic` format:\n",
      "\n",
      "- `delimiter`: the characters `<SPACE>`, `'|'`, `','`, `'\\t'`, and `'\\s'` (tab or space) are defaults.\n",
      "- `comment`: if this regular expression matches the beginning of a table line then that line will be discarded from header or data processing.\n",
      "- `quotechar`: This specifies the quote character and will typically be either the single or double quote character."
     ]
    },
    {
     "cell_type": "code",
     "collapsed": false,
     "input": [
      "lines = ['a * b',  # Don't ever make a table like this!\n",
      "         '^hello * world^ * 5',\n",
      "         '! Comment line',\n",
      "         'more * values']\n",
      "Table.read(lines, format='ascii.basic', delimiter='*', comment='!', quotechar='^')"
     ],
     "language": "python",
     "metadata": {},
     "outputs": [],
     "prompt_number": 8
    },
    {
     "cell_type": "markdown",
     "metadata": {},
     "source": [
      "* * *"
     ]
    },
    {
     "cell_type": "heading",
     "level": 5,
     "metadata": {},
     "source": [
      "`header_start`, `data_start`, and `data_end` -- Locate the header and data"
     ]
    },
    {
     "cell_type": "markdown",
     "metadata": {},
     "source": [
      "The **header** is defined as the part of the table which contains column names and any other information such as column types and other metadata.  Frequently the header is a single line of column names, but it maybe long or might not exist.\n",
      "\n",
      "The **data** section is the part which has the data values.\n",
      "\n",
      "- **`header_start`** : This specifies in the line index where the header begins. Comment lines are not included in this count and the counting starts from 0 (first non-comment line has index=0). If set to None this indicates that there is no header line and the column names will be auto-generated. The default is dependent on the format.\n",
      "- **`data_start`**: This specifies in the line index where the data lines begin where the counting starts from 0 and does not include comment lines. The default is dependent on the format.\n",
      "- **`data_end`**: If this is not None then it allows for excluding lines at the end that are not valid data lines. A negative value means to count from the end, so -1 would exclude the last line, -2 the last two lines, and so on.\n"
     ]
    },
    {
     "cell_type": "code",
     "collapsed": false,
     "input": [
      "lines = ['Some irrelevant stuff here',    # Line 0\n",
      "         '',                              #   Blank (only whitespace) => Not included in count\n",
      "         '# Properly commented out line', #   Comment => Not included\n",
      "         ' col0  col1',                   # Line 1 (header start)\n",
      "         '',                              #   Blank\n",
      "         'More junk from table creator',  # Line 2\n",
      "         ' 10   20 ',                     # Line 3 (data start)\n",
      "         '# comment line',                #   Comment\n",
      "         ' 20   40 ',                     # Line 4 (-2, data end)\n",
      "         '/ Why do people do this?',      # Line 5 (-1)\n",
      "         '/ Just to make life hard.'      # Line 6 (-0)\n",
      "    ]"
     ],
     "language": "python",
     "metadata": {},
     "outputs": [],
     "prompt_number": 9
    },
    {
     "cell_type": "code",
     "collapsed": false,
     "input": [
      "Table.read(lines, format='ascii', header_start=1, data_start=3, data_end=-2, guess=False)"
     ],
     "language": "python",
     "metadata": {},
     "outputs": [],
     "prompt_number": 10
    },
    {
     "cell_type": "markdown",
     "metadata": {},
     "source": [
      "* * *"
     ]
    },
    {
     "cell_type": "heading",
     "level": 5,
     "metadata": {},
     "source": [
      "`converters` argument -- Give me the right types"
     ]
    },
    {
     "cell_type": "markdown",
     "metadata": {},
     "source": [
      "Sometimes the automatic type inference doesn't do you wanted."
     ]
    },
    {
     "cell_type": "code",
     "collapsed": false,
     "input": [
      "lines = \"\"\"\n",
      "char float\n",
      "\"1\" 1\n",
      "\"2\" 2\n",
      "\"3\" 3\n",
      "\"4\" 4\n",
      "\"\"\""
     ],
     "language": "python",
     "metadata": {},
     "outputs": [],
     "prompt_number": 11
    },
    {
     "cell_type": "code",
     "collapsed": false,
     "input": [
      "t = Table.read(lines, format='ascii')\n",
      "t.dtype"
     ],
     "language": "python",
     "metadata": {},
     "outputs": [],
     "prompt_number": 12
    },
    {
     "cell_type": "code",
     "collapsed": false,
     "input": [
      "from astropy.io import ascii\n",
      "converters = {'char': [ascii.convert_numpy(np.str)],\n",
      "              'float': [ascii.convert_numpy(np.float)]}\n"
     ],
     "language": "python",
     "metadata": {},
     "outputs": [],
     "prompt_number": 13
    },
    {
     "cell_type": "code",
     "collapsed": false,
     "input": [
      "t = Table.read(lines, format='ascii', converters=converters)\n",
      "t.dtype"
     ],
     "language": "python",
     "metadata": {},
     "outputs": [],
     "prompt_number": 14
    },
    {
     "cell_type": "markdown",
     "metadata": {},
     "source": [
      "* * *"
     ]
    },
    {
     "cell_type": "heading",
     "level": 5,
     "metadata": {},
     "source": [
      "`names`, `include_names`, `exclude_names` -- What to call the columns and what you find interesting"
     ]
    },
    {
     "cell_type": "markdown",
     "metadata": {},
     "source": [
      "Some tables arrive nameless, that is to say there is no definition of the column names within the table.  When that is the case `ascii.read()` will automatically assign names like `col0`, `col1` and so on.  These aren't very descriptive and the `names` argument gives you a way to fix that on reading the table."
     ]
    },
    {
     "cell_type": "code",
     "collapsed": false,
     "input": [
      "lines = \"\"\"\n",
      "1 2 3\n",
      "4 5 6\n",
      "\"\"\"\n",
      "Table.read(lines, format='ascii', names=['a', 'b', 'c'])"
     ],
     "language": "python",
     "metadata": {},
     "outputs": [],
     "prompt_number": 15
    },
    {
     "cell_type": "markdown",
     "metadata": {},
     "source": [
      "Maybe someone has given you a table with tons of columns that are mostly uninteresting to you:"
     ]
    },
    {
     "cell_type": "code",
     "collapsed": false,
     "input": [
      "lines = \"\"\"\n",
      "a b c d e f g h i j k planet color\n",
      "1 2 3 4 5 6 7 8 1 2 3 mars reddish\n",
      "9 8 7 6 5 4 3 2 1 0 1 earth blue-ish\n",
      "\"\"\"\n",
      "Table.read(lines, format='ascii', include_names=['planet', 'color'])"
     ],
     "language": "python",
     "metadata": {},
     "outputs": [],
     "prompt_number": 16
    },
    {
     "cell_type": "markdown",
     "metadata": {},
     "source": [
      "* * *"
     ]
    },
    {
     "cell_type": "heading",
     "level": 5,
     "metadata": {},
     "source": [
      "`fill_values`, `fill_include_names`, `fill_exclude_names` -- Handling missing or bad values"
     ]
    },
    {
     "cell_type": "markdown",
     "metadata": {},
     "source": [
      "This can be used to fill missing values in the table or replace strings with special meaning. See the [Bad or missing values](http://astropy.readthedocs.org/en/stable/io/ascii/read.html#bad-or-missing-values) section for more information and examples. \n",
      "\n",
      "The default is that any blank table values are treated as missing.\n",
      "\n",
      "Unfortunately there isn't time here for the joy and madness of fill values!"
     ]
    },
    {
     "cell_type": "heading",
     "level": 2,
     "metadata": {},
     "source": [
      "Writing tables"
     ]
    },
    {
     "cell_type": "markdown",
     "metadata": {},
     "source": [
      "Once you understand reading tables then writing is pretty simple and comparitively boring.  The online documentation on [Parameters for write()](http://astropy.readthedocs.org/en/stable/io/ascii/read.html#parameters-for-read) describes the arguments, most of which should be familiar by now.\n",
      "\n",
      "Instead of going through the parameters exhaustively we'll just show a few examples here."
     ]
    },
    {
     "cell_type": "code",
     "collapsed": false,
     "input": [
      "lines = \"\"\"\n",
      "X Y Z\n",
      "1 2.0022 'hello world'\n",
      "-99 4.01234 'so long world'\n",
      "\"\"\"\n",
      "t = ascii.read(lines)  # For variety we show the functional interface\n",
      "t['Y'].unit = 'm/s'"
     ],
     "language": "python",
     "metadata": {},
     "outputs": [],
     "prompt_number": 17
    },
    {
     "cell_type": "code",
     "collapsed": false,
     "input": [
      "import sys\n",
      "t.write(sys.stdout, format='ascii')"
     ],
     "language": "python",
     "metadata": {},
     "outputs": [],
     "prompt_number": 18
    },
    {
     "cell_type": "code",
     "collapsed": false,
     "input": [
      "t.write(sys.stdout, format='ascii', delimiter=',')  # Or just format='ascii.csv' in astropy 0.4 and later"
     ],
     "language": "python",
     "metadata": {},
     "outputs": [],
     "prompt_number": 19
    },
    {
     "cell_type": "code",
     "collapsed": false,
     "input": [
      "ascii.write(t, format='aastex')  # default functional interface output is sys.stdout"
     ],
     "language": "python",
     "metadata": {},
     "outputs": [],
     "prompt_number": 20
    },
    {
     "cell_type": "code",
     "collapsed": false,
     "input": [
      "t.write(sys.stdout, format='ascii.ipac', formats={'Y': '%.4f'})"
     ],
     "language": "python",
     "metadata": {},
     "outputs": [],
     "prompt_number": 21
    },
    {
     "cell_type": "code",
     "collapsed": false,
     "input": [
      "t.write(sys.stdout, format='ascii.ipac', names=['A', 'B', 'C'])"
     ],
     "language": "python",
     "metadata": {},
     "outputs": [],
     "prompt_number": 22
    },
    {
     "cell_type": "code",
     "collapsed": false,
     "input": [
      "t.write(sys.stdout, format='ascii.latex', fill_values=[('-99', '...')])"
     ],
     "language": "python",
     "metadata": {},
     "outputs": [],
     "prompt_number": 23
    },
    {
     "cell_type": "heading",
     "level": 1,
     "metadata": {},
     "source": [
      "Practical exercises"
     ]
    },
    {
     "cell_type": "heading",
     "level": 3,
     "metadata": {},
     "source": [
      "Level 1-2: Basic reading"
     ]
    },
    {
     "cell_type": "markdown",
     "metadata": {},
     "source": [
      "First familiarize yourself with the available supported formats:\n",
      "\n",
      "- Open up the [Supported formats](http://astropy.readthedocs.org/en/stable/io/ascii/index.html#id1) page and click through the documentation for each format.\n",
      "- Which formats document support for table metadata like column units, comments or additional descriptions?\n",
      "\n",
      "Read the following files in the **`data/ascii/`** sub-directory and show the contents for each one.  Try to use the minimum effort and number of non-default options possible.  \n",
      "\n",
      "The pattern will be ``Table.read('data/ascii/<filename>', format='...', ...)``.\n",
      "\n",
      "*HINT*: You can examine each file with ``%cat <filename>`` in IPython notebook (e.g. ``%cat data/ascii/basic.dat``).\n",
      "\n",
      "- `'basic.dat'`\n",
      "- `'ipac.dat'`  -- from [NASA/IPAC Infrared Science Archive](http://irsa.ipac.caltech.edu/frontpage/)\n",
      "- `'daophot.dat.gz'` -- Hint: unzipping is automatic\n",
      "- `'cds/lhs2065.dat'` -- Hint: read the docs!  Note that Vizier catalog results are in CDS format.\n",
      "- `'fixed_width.dat'` -- Hint: check out the [Fixed width gallery](http://astropy.readthedocs.org/en/stable/io/ascii/fixed_width_gallery.html)."
     ]
    },
    {
     "cell_type": "heading",
     "level": 3,
     "metadata": {},
     "source": [
      "Level 2: Metadata"
     ]
    },
    {
     "cell_type": "markdown",
     "metadata": {},
     "source": [
      "For the table from `'ipac.dat'`, there is table metadata that is in an ordered dictionary in the table `meta` attribute.  If you read the table into a variable named `dat` then you would be looking at `dat.meta`.\n",
      "\n",
      "- Print the keys of `dat.meta`.  What are they?\n",
      "- Print each of the `keywords` and their values from `dat.meta`, one per line in the format `keyword: value`.\n",
      "- For each column in the table print the column name and unit.  *HINT* remember `colnames`."
     ]
    },
    {
     "cell_type": "heading",
     "level": 3,
     "metadata": {},
     "source": [
      "Level 3: Harder reading"
     ]
    },
    {
     "cell_type": "markdown",
     "metadata": {},
     "source": [
      "Read two slightly challenging tables:\n",
      "\n",
      "- `hard1.dat` -- This is part of a real data file produced by a Sybase SQL query.\n",
      "- `hard2.dat` -- Your neighbor asked you to help computerize his garden and handed you this data file to read.  You'll need to study up on `fill_values`."
     ]
    },
    {
     "cell_type": "heading",
     "level": 3,
     "metadata": {},
     "source": [
      "Level 1: Writing"
     ]
    },
    {
     "cell_type": "markdown",
     "metadata": {},
     "source": [
      "Start from the table from `'ipac.dat'` and make a new table that has just first 2 lines of the first 3 columns.  This is done with:\n",
      "```python\n",
      ">>> dat3 = dat['designation', 'ra', 'dec'][:2]\n",
      "```\n",
      "\n",
      "Find the output format output that will create each of the following three outputs from the table `t3`.  You can use the pattern:\n",
      "```\n",
      "import sys\n",
      "dat3.write(sys.stdout, format='...', ...)\n",
      "```\n",
      "\n",
      "##### Format 1\n",
      "```\n",
      "designation,ra,dec,sigra,sigdec\n",
      "J095542.55+690421.2,148.9273263,69.0725621,0.0401,0.039\n",
      "J095540.45+690439.1,148.9185759,69.0775361,0.0519,0.0494\n",
      "```\n",
      "\n",
      "##### Format 2\n",
      "```\n",
      "        designation          ra        dec\n",
      "------------------- ----------- ----------\n",
      "J095542.55+690421.2 148.9273263 69.0725621\n",
      "J095540.45+690439.1 148.9185759 69.0775361\n",
      "```\n",
      "\n",
      "##### Format 3\n",
      "```\n",
      "\\begin{table}\n",
      "\\begin{tabular}{ccc}\n",
      "designation & ra & dec \\\\\n",
      "J095542.55+690421.2 & 148.9273263 & 69.0725621 \\\\\n",
      "J095540.45+690439.1 & 148.9185759 & 69.0775361 \\\\\n",
      "\\end{tabular}\n",
      "\\end{table}\n",
      "```\n",
      "\n",
      "### Level 2: Writing IPAC\n",
      "\n",
      "- Now write the `dat3` table back out in IPAC format.  Does it look like the output has the same units and metadata as the original?"
     ]
    },
    {
     "cell_type": "markdown",
     "metadata": {},
     "source": [
      "[Back to top](#Handling-ASCII-table-files)"
     ]
    }
   ],
   "metadata": {}
  }
 ]
}