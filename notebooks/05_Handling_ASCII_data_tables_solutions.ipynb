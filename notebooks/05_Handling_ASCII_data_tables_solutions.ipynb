{
 "metadata": {
  "name": "",
  "signature": "sha256:9fa94d955bd0caecd0884f6965e16edbd2b587c63979ec6fb7073b81de5a9bc5"
 },
 "nbformat": 3,
 "nbformat_minor": 0,
 "worksheets": [
  {
   "cells": [
    {
     "cell_type": "heading",
     "level": 1,
     "metadata": {},
     "source": [
      "Handling ASCII data tables - Solutions"
     ]
    },
    {
     "cell_type": "markdown",
     "metadata": {},
     "source": [
      "* [Back to tutorial home](http://astropy4scipy2014.readthedocs.org/)\n",
      "* [Download raw notebook file](https://github.com/astropy/astropy4scipy2014/raw/master/notebooks/05_Handling_ASCII_data_tables_solutions.ipynb)"
     ]
    },
    {
     "cell_type": "markdown",
     "metadata": {},
     "source": [
      "First familiarize yourself with the available supported formats:\n",
      "\n",
      "- Open up the [Supported formats](http://astropy.readthedocs.org/en/stable/io/ascii/index.html#id1) page and click through the documentation for each format.\n",
      "- Which formats document support for table metadata like column units, comments or additional descriptions?"
     ]
    },
    {
     "cell_type": "markdown",
     "metadata": {},
     "source": [
      "**Answer**:\n",
      "\n",
      "The `'cds'`, `'daophot'`, and `'ipac'` formats have support for units and/or metadata.\n",
      "    "
     ]
    },
    {
     "cell_type": "markdown",
     "metadata": {},
     "source": [
      "Read the following files in the **`data/ascii/`** sub-directory and show the contents for each one.  Try to use the minimum effort and number of non-default options possible.\n",
      "\n",
      "- `'basic.dat'`\n",
      "- `'ipac.dat'`  -- from [NASA/IPAC Infrared Science Archive](http://irsa.ipac.caltech.edu/frontpage/)\n",
      "- `'daophot.dat.gz'` -- Hint: unzipping is automatic\n",
      "- `'cds/lhs2065.dat'` -- Hint: read the docs!  Note that Vizier catalog results are in CDS format.\n",
      "- `'fixed_width.dat'` -- Hint: check out the [Fixed width gallery](http://astropy.readthedocs.org/en/stable/io/ascii/fixed_width_gallery.html)."
     ]
    },
    {
     "cell_type": "code",
     "collapsed": false,
     "input": [
      "from astropy.table import Table"
     ],
     "language": "python",
     "metadata": {},
     "outputs": [],
     "prompt_number": 1
    },
    {
     "cell_type": "code",
     "collapsed": false,
     "input": [
      "Table.read('data/ascii/basic.dat', format='ascii')"
     ],
     "language": "python",
     "metadata": {},
     "outputs": [],
     "prompt_number": 2
    },
    {
     "cell_type": "code",
     "collapsed": false,
     "input": [
      "Table.read('data/ascii/ipac.dat', format='ascii.ipac')"
     ],
     "language": "python",
     "metadata": {},
     "outputs": [],
     "prompt_number": 3
    },
    {
     "cell_type": "code",
     "collapsed": false,
     "input": [
      "Table.read('data/ascii/daophot.dat.gz', format='ascii.daophot')"
     ],
     "language": "python",
     "metadata": {},
     "outputs": [],
     "prompt_number": 4
    },
    {
     "cell_type": "code",
     "collapsed": false,
     "input": [
      "Table.read('data/ascii/cds/lhs2065.dat', readme='data/ascii/cds/ReadMe', format='ascii.cds')"
     ],
     "language": "python",
     "metadata": {},
     "outputs": [],
     "prompt_number": 5
    },
    {
     "cell_type": "code",
     "collapsed": false,
     "input": [
      "Table.read('data/ascii/fixed_width.dat', header_start=1, position_line=2, data_end=-1,\n",
      "           format='ascii.fixed_width_two_line')"
     ],
     "language": "python",
     "metadata": {},
     "outputs": [],
     "prompt_number": 6
    },
    {
     "cell_type": "markdown",
     "metadata": {},
     "source": [
      "### Metadata\n",
      "\n",
      "For the table from `'ipac.dat'`, there is table metadata that is in an ordered dictionary in the table `meta` attribute.  If you read the table into a variable named `dat` then you would be looking at `dat.meta`.\n",
      "\n",
      "- Print the keys of `dat.meta`.  What are they?\n",
      "- Print each of the `keywords` and their values from `dat.meta`, one per line in the format `keyword: value`.\n",
      "- For each column in the table print the column name and unit.  *HINT* remember `colnames`."
     ]
    },
    {
     "cell_type": "code",
     "collapsed": false,
     "input": [
      "dat = Table.read('data/ascii/ipac.dat', format='ascii.ipac')\n",
      "dat.meta.keys()"
     ],
     "language": "python",
     "metadata": {},
     "outputs": [],
     "prompt_number": 7
    },
    {
     "cell_type": "code",
     "collapsed": false,
     "input": [
      "for name, keyword in dat.meta['keywords'].items():\n",
      "    print('{0}: {1}'.format(name, keyword['value']))"
     ],
     "language": "python",
     "metadata": {},
     "outputs": [],
     "prompt_number": 8
    },
    {
     "cell_type": "code",
     "collapsed": false,
     "input": [
      "for colname in dat.colnames:\n",
      "    print('{0}: {1}'.format(colname, dat[colname].unit))"
     ],
     "language": "python",
     "metadata": {},
     "outputs": [],
     "prompt_number": 9
    },
    {
     "cell_type": "markdown",
     "metadata": {},
     "source": [
      "### Harder reading (if you have time)\n",
      "\n",
      "Read two slightly challenging tables:\n",
      "\n",
      "- `hard1.dat` -- This is part of a real data file produced by a Sybase SQL query.\n",
      "- `hard2.dat` -- Your neighbor asked you to help computerize his garden and handed you this data file to read.  You'll need to study up on `fill_values`."
     ]
    },
    {
     "cell_type": "code",
     "collapsed": false,
     "input": [
      "t = Table.read('data/ascii/hard1.dat', format='ascii', delimiter='|', data_start=2)\n",
      "t.remove_column('col0')\n",
      "t"
     ],
     "language": "python",
     "metadata": {},
     "outputs": [],
     "prompt_number": 10
    },
    {
     "cell_type": "code",
     "collapsed": false,
     "input": [
      "Table.read('data/ascii/hard2.dat', format='ascii.no_header', delimiter=':', data_start=5,\n",
      "           names=['year', 'peas', 'beans', 'carrots'], fill_values=[('not sure', 0)])"
     ],
     "language": "python",
     "metadata": {},
     "outputs": [],
     "prompt_number": 11
    },
    {
     "cell_type": "markdown",
     "metadata": {},
     "source": [
      "### Writing\n",
      "\n",
      "Start from the table from `'ipac.dat'` and make a new table that has just first 2 lines of the first 3 columns.  This is done with:\n",
      "```python\n",
      ">>> dat3 = dat['designation', 'ra', 'dec'][:2]\n",
      "```"
     ]
    },
    {
     "cell_type": "code",
     "collapsed": false,
     "input": [
      "dat3 = dat['designation', 'ra', 'dec'][:2]"
     ],
     "language": "python",
     "metadata": {},
     "outputs": [],
     "prompt_number": 12
    },
    {
     "cell_type": "markdown",
     "metadata": {},
     "source": [
      "Find the output format output that will create each of the following three outputs from the table `t3`.  You can use the pattern:\n",
      "```\n",
      "dat3.write(sys.stdout, format='...', ...)  # assuming import sys beforehand\n",
      "```"
     ]
    },
    {
     "cell_type": "markdown",
     "metadata": {},
     "source": [
      "##### Format 1\n",
      "```\n",
      "designation,ra,dec,sigra,sigdec\n",
      "J095542.55+690421.2,148.9273263,69.0725621,0.0401,0.039\n",
      "J095540.45+690439.1,148.9185759,69.0775361,0.0519,0.0494\n",
      "```"
     ]
    },
    {
     "cell_type": "code",
     "collapsed": false,
     "input": [
      "import sys\n",
      "dat3.write(sys.stdout, format='ascii', delimiter=',')"
     ],
     "language": "python",
     "metadata": {},
     "outputs": [],
     "prompt_number": 13
    },
    {
     "cell_type": "markdown",
     "metadata": {},
     "source": [
      "##### Format 2\n",
      "```\n",
      "        designation          ra        dec\n",
      "------------------- ----------- ----------\n",
      "J095542.55+690421.2 148.9273263 69.0725621\n",
      "J095540.45+690439.1 148.9185759 69.0775361\n",
      "```"
     ]
    },
    {
     "cell_type": "code",
     "collapsed": false,
     "input": [
      "dat3.write(sys.stdout, format='ascii.fixed_width_two_line')"
     ],
     "language": "python",
     "metadata": {},
     "outputs": [],
     "prompt_number": 14
    },
    {
     "cell_type": "markdown",
     "metadata": {},
     "source": [
      "##### Format 3\n",
      "```\n",
      "\\begin{table}\n",
      "\\begin{tabular}{ccc}\n",
      "designation & ra & dec \\\\\n",
      "J095542.55+690421.2 & 148.9273263 & 69.0725621 \\\\\n",
      "J095540.45+690439.1 & 148.9185759 & 69.0775361 \\\\\n",
      "\\end{tabular}\n",
      "\\end{table}\n",
      "```"
     ]
    },
    {
     "cell_type": "code",
     "collapsed": false,
     "input": [
      "dat3.write(sys.stdout, format='ascii.latex')"
     ],
     "language": "python",
     "metadata": {},
     "outputs": [],
     "prompt_number": 15
    },
    {
     "cell_type": "markdown",
     "metadata": {},
     "source": [
      "##### IPAC\n",
      "\n",
      "- Now write the `t3` table back out in IPAC format.  Does it look like the output has the same units and metadata as the original?"
     ]
    },
    {
     "cell_type": "code",
     "collapsed": false,
     "input": [
      "dat3.write(sys.stdout, format='ipac')"
     ],
     "language": "python",
     "metadata": {},
     "outputs": [],
     "prompt_number": 16
    },
    {
     "cell_type": "markdown",
     "metadata": {},
     "source": [
      "[Back to top](#Handling-ASCII-data-tables---Solutions)"
     ]
    }
   ],
   "metadata": {}
  }
 ]
}