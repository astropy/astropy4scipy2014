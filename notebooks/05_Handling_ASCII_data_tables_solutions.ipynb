{
 "metadata": {
  "name": "",
  "signature": "sha256:9fa94d955bd0caecd0884f6965e16edbd2b587c63979ec6fb7073b81de5a9bc5"
 },
 "nbformat": 3,
 "nbformat_minor": 0,
 "worksheets": [
  {
   "cells": [
    {
     "cell_type": "heading",
     "level": 1,
     "metadata": {},
     "source": [
      "Handling ASCII data tables - Solutions"
     ]
    },
    {
     "cell_type": "markdown",
     "metadata": {},
     "source": [
      "* [Back to tutorial home](http://astropy4scipy2014.readthedocs.org/)\n",
      "* [Download raw notebook file](https://github.com/astropy/astropy4scipy2014/raw/master/notebooks/05_Handling_ASCII_data_tables_solutions.ipynb)"
     ]
    },
    {
     "cell_type": "markdown",
     "metadata": {},
     "source": [
      "First familiarize yourself with the available supported formats:\n",
      "\n",
      "- Open up the [Supported formats](http://astropy.readthedocs.org/en/stable/io/ascii/index.html#id1) page and click through the documentation for each format.\n",
      "- Which formats document support for table metadata like column units, comments or additional descriptions?"
     ]
    },
    {
     "cell_type": "markdown",
     "metadata": {},
     "source": [
      "**Answer**:\n",
      "\n",
      "The `'cds'`, `'daophot'`, and `'ipac'` formats have support for units and/or metadata.\n",
      "    "
     ]
    },
    {
     "cell_type": "markdown",
     "metadata": {},
     "source": [
      "Read the following files in the **`data/ascii/`** sub-directory and show the contents for each one.  Try to use the minimum effort and number of non-default options possible.\n",
      "\n",
      "- `'basic.dat'`\n",
      "- `'ipac.dat'`  -- from [NASA/IPAC Infrared Science Archive](http://irsa.ipac.caltech.edu/frontpage/)\n",
      "- `'daophot.dat.gz'` -- Hint: unzipping is automatic\n",
      "- `'cds/lhs2065.dat'` -- Hint: read the docs!  Note that Vizier catalog results are in CDS format.\n",
      "- `'fixed_width.dat'` -- Hint: check out the [Fixed width gallery](http://astropy.readthedocs.org/en/stable/io/ascii/fixed_width_gallery.html)."
     ]
    },
    {
     "cell_type": "code",
     "collapsed": false,
     "input": [
      "from astropy.table import Table"
     ],
     "language": "python",
     "metadata": {},
     "outputs": [],
     "prompt_number": 1
    },
    {
     "cell_type": "code",
     "collapsed": false,
     "input": [
      "Table.read('data/ascii/basic.dat', format='ascii')"
     ],
     "language": "python",
     "metadata": {},
     "outputs": [
      {
       "html": [
        "<table id=\"table4400878160\"><thead><tr><th>obsid</th><th>redshift</th><th>X</th><th>Y</th><th>object</th><th>radius</th></tr></thead><tr><td>877</td><td>0.22</td><td>4378</td><td>3892</td><td>Source 82</td><td>12.5</td></tr><tr><td>3102</td><td>0.32</td><td>4167</td><td>4085</td><td>Q1250+568-A</td><td>9.0</td></tr></table>"
       ],
       "metadata": {},
       "output_type": "pyout",
       "prompt_number": 2,
       "text": [
        "<Table rows=2 names=('obsid','redshift','X','Y','object','radius')>\n",
        "array([(877, 0.22, 4378, 3892, 'Source 82', 12.5),\n",
        "       (3102, 0.32, 4167, 4085, 'Q1250+568-A', 9.0)], \n",
        "      dtype=[('obsid', '<i8'), ('redshift', '<f8'), ('X', '<i8'), ('Y', '<i8'), ('object', 'S11'), ('radius', '<f8')])"
       ]
      }
     ],
     "prompt_number": 2
    },
    {
     "cell_type": "code",
     "collapsed": false,
     "input": [
      "Table.read('data/ascii/ipac.dat', format='ascii.ipac')"
     ],
     "language": "python",
     "metadata": {},
     "outputs": [
      {
       "html": [
        "<table id=\"table4400880976\"><thead><tr><th>designation</th><th>ra</th><th>dec</th><th>sigra</th><th>sigdec</th><th>sigradec</th><th>w1mpro</th><th>w1sigmpro</th><th>w1snr</th><th>w1rchi2</th><th>w2mpro</th><th>w2sigmpro</th><th>w2snr</th><th>w2rchi2</th><th>w3mpro</th><th>w3sigmpro</th><th>w3snr</th><th>w3rchi2</th><th>w4mpro</th><th>w4sigmpro</th><th>w4snr</th><th>w4rchi2</th><th>nb</th><th>na</th><th>w1sat</th><th>w2sat</th><th>w3sat</th><th>w4sat</th><th>pmra</th><th>sigpmra</th><th>pmdec</th><th>sigpmdec</th><th>cc_flags</th><th>ext_flg</th><th>var_flg</th><th>ph_qual</th><th>moon_lev</th><th>w1nm</th><th>w1m</th><th>w2nm</th><th>w2m</th><th>w3nm</th><th>w3m</th><th>w4nm</th><th>w4m</th><th>dist</th><th>angle</th></tr></thead><thead><tr><th></th><th>deg</th><th>deg</th><th>arcsec</th><th>arcsec</th><th>arcsec</th><th>mag</th><th>mag</th><th></th><th></th><th>mag</th><th>mag</th><th></th><th></th><th>mag</th><th>mag</th><th></th><th></th><th>mag</th><th>mag</th><th></th><th></th><th></th><th></th><th></th><th></th><th></th><th></th><th>maspyr</th><th>maspyr</th><th>maspyr</th><th>maspyr</th><th></th><th></th><th></th><th></th><th></th><th></th><th></th><th></th><th></th><th></th><th></th><th></th><th></th><th>arcsec</th><th>deg</th></tr></thead><tr><td>J095542.55+690421.2</td><td>148.9273263</td><td>69.0725621</td><td>0.0401</td><td>0.039</td><td>-0.0079</td><td>11.006</td><td>0.023</td><td>47.3</td><td>124.2</td><td>11.31</td><td>0.022</td><td>49.3</td><td>42.3</td><td>10.069</td><td>0.069</td><td>15.7</td><td>1.585</td><td>8.399</td><td>0.313</td><td>3.5</td><td>0.9217</td><td>1</td><td>0</td><td>0.0</td><td>0.0</td><td>0.0</td><td>0.001</td><td>937</td><td>40</td><td>-42</td><td>41</td><td>dhhd</td><td>3</td><td>n20n</td><td>AAAB</td><td>0000</td><td>38</td><td>38</td><td>38</td><td>38</td><td>17</td><td>17</td><td>0</td><td>17</td><td>56.727613</td><td>62.457064</td></tr><tr><td>J095540.45+690439.1</td><td>148.9185759</td><td>69.0775361</td><td>0.0519</td><td>0.0494</td><td>0.011</td><td>11.233</td><td>0.029</td><td>37.3</td><td>83.99</td><td>11.51</td><td>0.026</td><td>42.5</td><td>33.49</td><td>10.53</td><td>0.097</td><td>11.1</td><td>1.346</td><td>8.212</td><td>0.31</td><td>1.9</td><td>0.8811</td><td>2</td><td>0</td><td>0.0</td><td>0.0</td><td>0.0</td><td>0.001</td><td>-586</td><td>54</td><td>570</td><td>59</td><td>hhd0</td><td>3</td><td>441n</td><td>AAAU</td><td>0000</td><td>38</td><td>38</td><td>38</td><td>38</td><td>16</td><td>18</td><td>1</td><td>18</td><td>58.91976</td><td>41.495112</td></tr><tr><td>J095522.94+690330.8</td><td>148.8456095</td><td>69.0585649</td><td>0.0412</td><td>0.0405</td><td>0.0044</td><td>11.353</td><td>0.022</td><td>49.7</td><td>155.8</td><td>11.693</td><td>0.022</td><td>48.6</td><td>36.42</td><td>9.816</td><td>0.06</td><td>18.1</td><td>2.835</td><td>8.003</td><td>0.174</td><td>6.2</td><td>1.095</td><td>2</td><td>0</td><td>0.0</td><td>0.0</td><td>0.0</td><td>0.0</td><td>372</td><td>50</td><td>263</td><td>54</td><td>hhhd</td><td>3</td><td>n41n</td><td>AAAB</td><td>0000</td><td>38</td><td>38</td><td>38</td><td>38</td><td>17</td><td>17</td><td>3</td><td>17</td><td>59.899981</td><td>246.2178</td></tr><tr><td>J095533.22+690354.7</td><td>148.8884508</td><td>69.0652157</td><td>0.0255</td><td>0.0259</td><td>-0.0048</td><td>5.742</td><td>0.038</td><td>28.6</td><td>48.73</td><td>6.472</td><td>0.019</td><td>56.9</td><td>72.04</td><td>5.092</td><td>0.014</td><td>75.9</td><td>19.27</td><td>2.957</td><td>0.021</td><td>51.4</td><td>4.403</td><td>1</td><td>0</td><td>0.104</td><td>0.031</td><td>0.0</td><td>0.0</td><td>340</td><td>24</td><td>-323</td><td>24</td><td>0000</td><td>5</td><td>3420</td><td>AAAA</td><td>0000</td><td>38</td><td>38</td><td>38</td><td>38</td><td>18</td><td>18</td><td>18</td><td>18</td><td>0.386686</td><td>126.771975</td></tr><tr><td>J095543.03+690346.4</td><td>148.9293026</td><td>69.0629078</td><td>0.0385</td><td>0.0378</td><td>-0.0073</td><td>10.755</td><td>0.023</td><td>47.7</td><td>148.1</td><td>11.05</td><td>0.021</td><td>51.4</td><td>55.8</td><td>9.592</td><td>0.049</td><td>22.0</td><td>2.835</td><td>7.764</td><td>0.15</td><td>7.2</td><td>1.258</td><td>1</td><td>0</td><td>0.0</td><td>0.0</td><td>0.0</td><td>0.0</td><td>640</td><td>39</td><td>-275</td><td>41</td><td>hhh0</td><td>3</td><td>n30n</td><td>AAAB</td><td>0000</td><td>38</td><td>38</td><td>38</td><td>38</td><td>17</td><td>17</td><td>5</td><td>17</td><td>53.545446</td><td>99.158058</td></tr></table>"
       ],
       "metadata": {},
       "output_type": "pyout",
       "prompt_number": 3,
       "text": [
        "<Table rows=5 names=('designation','ra','dec','sigra','sigdec','sigradec','w1mpro','w1sigmpro','w1snr','w1rchi2','w2mpro','w2sigmpro','w2snr','w2rchi2','w3mpro','w3sigmpro','w3snr','w3rchi2','w4mpro','w4sigmpro','w4snr','w4rchi2','nb','na','w1sat','w2sat','w3sat','w4sat','pmra','sigpmra','pmdec','sigpmdec','cc_flags','ext_flg','var_flg','ph_qual','moon_lev','w1nm','w1m','w2nm','w2m','w3nm','w3m','w4nm','w4m','dist','angle') units=('','deg','deg','arcsec','arcsec','arcsec','mag','mag','','','mag','mag','','','mag','mag','','','mag','mag','','','','','','','','','maspyr','maspyr','maspyr','maspyr','','','','','','','','','','','','','','arcsec','deg')>\n",
        "array([ ('J095542.55+690421.2', 148.9273263, 69.0725621, 0.0401, 0.039, -0.0079, 11.006, 0.023, 47.3, 124.2, 11.31, 0.022, 49.3, 42.3, 10.069, 0.069, 15.7, 1.585, 8.399, 0.313, 3.5, 0.9217, 1, 0, 0.0, 0.0, 0.0, 0.001, 937, 40, -42, 41, 'dhhd', 3, 'n20n', 'AAAB', '0000', 38, 38, 38, 38, 17, 17, 0, 17, 56.727613, 62.457064),\n",
        "       ('J095540.45+690439.1', 148.9185759, 69.0775361, 0.0519, 0.0494, 0.011, 11.233, 0.029, 37.3, 83.99, 11.51, 0.026, 42.5, 33.49, 10.53, 0.097, 11.1, 1.346, 8.212, 0.31, 1.9, 0.8811, 2, 0, 0.0, 0.0, 0.0, 0.001, -586, 54, 570, 59, 'hhd0', 3, '441n', 'AAAU', '0000', 38, 38, 38, 38, 16, 18, 1, 18, 58.91976, 41.495112),\n",
        "       ('J095522.94+690330.8', 148.8456095, 69.0585649, 0.0412, 0.0405, 0.0044, 11.353, 0.022, 49.7, 155.8, 11.693, 0.022, 48.6, 36.42, 9.816, 0.06, 18.1, 2.835, 8.003, 0.174, 6.2, 1.095, 2, 0, 0.0, 0.0, 0.0, 0.0, 372, 50, 263, 54, 'hhhd', 3, 'n41n', 'AAAB', '0000', 38, 38, 38, 38, 17, 17, 3, 17, 59.899981, 246.2178),\n",
        "       ('J095533.22+690354.7', 148.8884508, 69.0652157, 0.0255, 0.0259, -0.0048, 5.742, 0.038, 28.6, 48.73, 6.472, 0.019, 56.9, 72.04, 5.092, 0.014, 75.9, 19.27, 2.957, 0.021, 51.4, 4.403, 1, 0, 0.104, 0.031, 0.0, 0.0, 340, 24, -323, 24, '0000', 5, '3420', 'AAAA', '0000', 38, 38, 38, 38, 18, 18, 18, 18, 0.386686, 126.771975),\n",
        "       ('J095543.03+690346.4', 148.9293026, 69.0629078, 0.0385, 0.0378, -0.0073, 10.755, 0.023, 47.7, 148.1, 11.05, 0.021, 51.4, 55.8, 9.592, 0.049, 22.0, 2.835, 7.764, 0.15, 7.2, 1.258, 1, 0, 0.0, 0.0, 0.0, 0.0, 640, 39, -275, 41, 'hhh0', 3, 'n30n', 'AAAB', '0000', 38, 38, 38, 38, 17, 17, 5, 17, 53.545446, 99.158058)], \n",
        "      dtype=[('designation', 'S19'), ('ra', '<f8'), ('dec', '<f8'), ('sigra', '<f8'), ('sigdec', '<f8'), ('sigradec', '<f8'), ('w1mpro', '<f8'), ('w1sigmpro', '<f8'), ('w1snr', '<f8'), ('w1rchi2', '<f8'), ('w2mpro', '<f8'), ('w2sigmpro', '<f8'), ('w2snr', '<f8'), ('w2rchi2', '<f8'), ('w3mpro', '<f8'), ('w3sigmpro', '<f8'), ('w3snr', '<f8'), ('w3rchi2', '<f8'), ('w4mpro', '<f8'), ('w4sigmpro', '<f8'), ('w4snr', '<f8'), ('w4rchi2', '<f8'), ('nb', '<i8'), ('na', '<i8'), ('w1sat', '<f8'), ('w2sat', '<f8'), ('w3sat', '<f8'), ('w4sat', '<f8'), ('pmra', '<i8'), ('sigpmra', '<i8'), ('pmdec', '<i8'), ('sigpmdec', '<i8'), ('cc_flags', 'S4'), ('ext_flg', '<i8'), ('var_flg', 'S4'), ('ph_qual', 'S4'), ('moon_lev', 'S4'), ('w1nm', '<i8'), ('w1m', '<i8'), ('w2nm', '<i8'), ('w2m', '<i8'), ('w3nm', '<i8'), ('w3m', '<i8'), ('w4nm', '<i8'), ('w4m', '<i8'), ('dist', '<f8'), ('angle', '<f8')])"
       ]
      }
     ],
     "prompt_number": 3
    },
    {
     "cell_type": "code",
     "collapsed": false,
     "input": [
      "Table.read('data/ascii/daophot.dat.gz', format='ascii.daophot')"
     ],
     "language": "python",
     "metadata": {},
     "outputs": [
      {
       "html": [
        "<table id=\"table4395536016\"><thead><tr><th>ID</th><th>XCENTER</th><th>YCENTER</th><th>MAG</th><th>MERR</th><th>MSKY</th><th>NITER</th><th>SHARPNESS</th><th>CHI</th><th>PIER</th><th>PERROR</th></tr></thead><thead><tr><th></th><th>pixels</th><th>pixels</th><th>magnitudes</th><th>magnitudes</th><th>counts</th><th></th><th></th><th></th><th></th><th>perrors</th></tr></thead><tr><td>14</td><td>138.538</td><td>256.405</td><td>15.461</td><td>0.003</td><td>34.85955</td><td>4</td><td>-0.032</td><td>0.802</td><td>0</td><td>No_error</td></tr><tr><td>18</td><td>18.114</td><td>280.170</td><td>22.329</td><td>0.206</td><td>30.12784</td><td>4</td><td>-2.544</td><td>1.104</td><td>0</td><td>No_error</td></tr></table>"
       ],
       "metadata": {},
       "output_type": "pyout",
       "prompt_number": 4,
       "text": [
        "<Table rows=2 names=('ID','XCENTER','YCENTER','MAG','MERR','MSKY','NITER','SHARPNESS','CHI','PIER','PERROR') units=(None,'pixels','pixels','magnitudes','magnitudes','counts',None,None,None,None,'perrors')>\n",
        "array([ (14, 138.538, 256.405, 15.461, 0.003, 34.85955, 4, -0.032, 0.802, 0, 'No_error'),\n",
        "       (18, 18.114, 280.17, 22.329, 0.206, 30.12784, 4, -2.544, 1.104, 0, 'No_error')], \n",
        "      dtype=[('ID', '<i8'), ('XCENTER', '<f8'), ('YCENTER', '<f8'), ('MAG', '<f8'), ('MERR', '<f8'), ('MSKY', '<f8'), ('NITER', '<i8'), ('SHARPNESS', '<f8'), ('CHI', '<f8'), ('PIER', '<i8'), ('PERROR', 'S8')])"
       ]
      }
     ],
     "prompt_number": 4
    },
    {
     "cell_type": "code",
     "collapsed": false,
     "input": [
      "Table.read('data/ascii/cds/lhs2065.dat', readme='data/ascii/cds/ReadMe', format='ascii.cds')"
     ],
     "language": "python",
     "metadata": {},
     "outputs": [
      {
       "html": [
        "<table id=\"table4395838544\"><thead><tr><th>Lambda</th><th>Fnu</th></tr></thead><thead><tr><th>0.1 nm</th><th>mJy</th></tr></thead><tr><td>6476.09</td><td>0.383329</td></tr><tr><td>6476.28</td><td>0.515559</td></tr><tr><td>6476.47</td><td>0.288042</td></tr><tr><td>6476.66</td><td>0.373343</td></tr></table>"
       ],
       "metadata": {},
       "output_type": "pyout",
       "prompt_number": 5,
       "text": [
        "<Table rows=4 names=('Lambda','Fnu') units=('0.1 nm','mJy')>\n",
        "array([(6476.09, '0.383329'), (6476.28, '0.515559'), (6476.47, '0.288042'),\n",
        "       (6476.66, '0.373343')], \n",
        "      dtype=[('Lambda', '<f8'), ('Fnu', 'S8')])"
       ]
      }
     ],
     "prompt_number": 5
    },
    {
     "cell_type": "code",
     "collapsed": false,
     "input": [
      "Table.read('data/ascii/fixed_width.dat', header_start=1, position_line=2, data_end=-1,\n",
      "           format='ascii.fixed_width_two_line')"
     ],
     "language": "python",
     "metadata": {},
     "outputs": [
      {
       "html": [
        "<table id=\"table4401002320\"><thead><tr><th>obsid</th><th>redshift</th><th>X</th><th>Y</th><th>object</th><th>radius</th></tr></thead><tr><td>877</td><td>0.22</td><td>4378</td><td>3892</td><td>Source 82</td><td>12.5</td></tr><tr><td>3102</td><td>0.32</td><td>4167</td><td>4085</td><td>Q1250+568-A</td><td>9.0</td></tr></table>"
       ],
       "metadata": {},
       "output_type": "pyout",
       "prompt_number": 6,
       "text": [
        "<Table rows=2 names=('obsid','redshift','X','Y','object','radius')>\n",
        "array([(877, 0.22, 4378, 3892, 'Source 82', 12.5),\n",
        "       (3102, 0.32, 4167, 4085, 'Q1250+568-A', 9.0)], \n",
        "      dtype=[('obsid', '<i8'), ('redshift', '<f8'), ('X', '<i8'), ('Y', '<i8'), ('object', 'S11'), ('radius', '<f8')])"
       ]
      }
     ],
     "prompt_number": 6
    },
    {
     "cell_type": "markdown",
     "metadata": {},
     "source": [
      "### Metadata\n",
      "\n",
      "For the table from `'ipac.dat'`, there is table metadata that is in an ordered dictionary in the table `meta` attribute.  If you read the table into a variable named `dat` then you would be looking at `dat.meta`.\n",
      "\n",
      "- Print the keys of `dat.meta`.  What are they?\n",
      "- Print each of the `keywords` and their values from `dat.meta`, one per line in the format `keyword: value`.\n",
      "- For each column in the table print the column name and unit.  *HINT* remember `colnames`."
     ]
    },
    {
     "cell_type": "code",
     "collapsed": false,
     "input": [
      "dat = Table.read('data/ascii/ipac.dat', format='ascii.ipac')\n",
      "dat.meta.keys()"
     ],
     "language": "python",
     "metadata": {},
     "outputs": [
      {
       "metadata": {},
       "output_type": "pyout",
       "prompt_number": 7,
       "text": [
        "['comments', 'keywords']"
       ]
      }
     ],
     "prompt_number": 7
    },
    {
     "cell_type": "code",
     "collapsed": false,
     "input": [
      "for name, keyword in dat.meta['keywords'].items():\n",
      "    print('{0}: {1}'.format(name, keyword['value']))"
     ],
     "language": "python",
     "metadata": {},
     "outputs": [
      {
       "output_type": "stream",
       "stream": "stdout",
       "text": [
        "fixlen: T\n",
        "primary: 0\n",
        "RowsRetrieved: 5\n",
        "QueryTime: 00:00:00.00837\n",
        "ORIGIN: IPAC Infrared Science Archive (IRSA), Caltech/JPL\n",
        "DATETIME: 2014-06-22 18:51:50\n",
        "DataTag: ADS/IRSA.Gator#2014/0622/185150_31848\n",
        "DATABASE: AllWISE Source Catalog (wise_allwise_p3as_psd)\n",
        "EQUINOX: J2000\n",
        "SKYAREA: within 1 arcmin of  ra=148.88821 dec=+69.06528 Eq J2000 \n",
        "StatusFile: /workspace/TMP_Tfkh5F_30754/Gator/irsa/31848/log.31848.html\n",
        "SQL: 'WHERE (no constraints)SELECT (47 column names follow in next row.)\n"
       ]
      }
     ],
     "prompt_number": 8
    },
    {
     "cell_type": "code",
     "collapsed": false,
     "input": [
      "for colname in dat.colnames:\n",
      "    print('{0}: {1}'.format(colname, dat[colname].unit))"
     ],
     "language": "python",
     "metadata": {},
     "outputs": [
      {
       "output_type": "stream",
       "stream": "stdout",
       "text": [
        "designation: \n",
        "ra: deg\n",
        "dec: deg\n",
        "sigra: arcsec\n",
        "sigdec: arcsec\n",
        "sigradec: arcsec\n",
        "w1mpro: mag\n",
        "w1sigmpro: mag\n",
        "w1snr: \n",
        "w1rchi2: \n",
        "w2mpro: mag\n",
        "w2sigmpro: mag\n",
        "w2snr: \n",
        "w2rchi2: \n",
        "w3mpro: mag\n",
        "w3sigmpro: mag\n",
        "w3snr: \n",
        "w3rchi2: \n",
        "w4mpro: mag\n",
        "w4sigmpro: mag\n",
        "w4snr: \n",
        "w4rchi2: \n",
        "nb: \n",
        "na: \n",
        "w1sat: \n",
        "w2sat: \n",
        "w3sat: \n",
        "w4sat: \n",
        "pmra: maspyr\n",
        "sigpmra: maspyr\n",
        "pmdec: maspyr\n",
        "sigpmdec: maspyr\n",
        "cc_flags: \n",
        "ext_flg: \n",
        "var_flg: \n",
        "ph_qual: \n",
        "moon_lev: \n",
        "w1nm: \n",
        "w1m: \n",
        "w2nm: \n",
        "w2m: \n",
        "w3nm: \n",
        "w3m: \n",
        "w4nm: \n",
        "w4m: \n",
        "dist: arcsec\n",
        "angle: deg\n"
       ]
      }
     ],
     "prompt_number": 9
    },
    {
     "cell_type": "markdown",
     "metadata": {},
     "source": [
      "### Harder reading (if you have time)\n",
      "\n",
      "Read two slightly challenging tables:\n",
      "\n",
      "- `hard1.dat` -- This is part of a real data file produced by a Sybase SQL query.\n",
      "- `hard2.dat` -- Your neighbor asked you to help computerize his garden and handed you this data file to read.  You'll need to study up on `fill_values`."
     ]
    },
    {
     "cell_type": "code",
     "collapsed": false,
     "input": [
      "t = Table.read('data/ascii/hard1.dat', format='ascii', delimiter='|', data_start=2)\n",
      "t.remove_column('col0')\n",
      "t"
     ],
     "language": "python",
     "metadata": {},
     "outputs": [
      {
       "html": [
        "<table id=\"table4395835728\"><thead><tr><th>objID</th><th>osrcid</th><th>xsrcid</th><th>SpecObjID</th><th>ra</th><th>dec</th><th>obsid</th><th>ccdid</th><th>z</th><th>modelMag_i</th><th>modelMagErr_i</th><th>modelMag_r</th><th>modelMagErr_r</th><th>expo</th><th>theta</th><th>rad_ecf_39</th><th>detlim90</th><th>fBlim90</th></tr></thead><tr><td>277955213</td><td>S000.7044P00.7513</td><td>XS04861B6_005</td><td>10943136</td><td>0.704453</td><td>0.751336</td><td>4861</td><td>6</td><td>0.08655</td><td>15.46206</td><td>0.00384</td><td>16.06365</td><td>0.003888</td><td>5104.621261</td><td>0.105533</td><td>3.022382</td><td>15.117712</td><td>0.311318</td></tr><tr><td>889974380</td><td>S002.9051P14.7003</td><td>XS03957B7_004</td><td>21189832</td><td>2.905195</td><td>14.700391</td><td>3957</td><td>7</td><td>0.13182</td><td>16.46605</td><td>0.004807</td><td>16.99269</td><td>0.004917</td><td>1479.207035</td><td>0.11855</td><td>3.016342</td><td>17.36428</td><td>0.880407</td></tr></table>"
       ],
       "metadata": {},
       "output_type": "pyout",
       "prompt_number": 10,
       "text": [
        "<Table rows=2 names=('objID','osrcid','xsrcid','SpecObjID','ra','dec','obsid','ccdid','z','modelMag_i','modelMagErr_i','modelMag_r','modelMagErr_r','expo','theta','rad_ecf_39','detlim90','fBlim90')>\n",
        "masked_array(data = [ (277955213, 'S000.7044P00.7513', 'XS04861B6_005', 10943136, 0.704453, 0.751336, 4861, 6, 0.08655, 15.46206, 0.00384, 16.06365, 0.003888, 5104.621261, 0.105533, 3.022382, 15.117712, 0.311318)\n",
        " (889974380, 'S002.9051P14.7003', 'XS03957B7_004', 21189832, 2.905195, 14.700391, 3957, 7, 0.13182, 16.46605, 0.004807, 16.99269, 0.004917, 1479.207035, 0.11855, 3.016342, 17.36428, 0.880407)],\n",
        "             mask = [ (False, False, False, False, False, False, False, False, False, False, False, False, False, False, False, False, False, False)\n",
        " (False, False, False, False, False, False, False, False, False, False, False, False, False, False, False, False, False, False)],\n",
        "       fill_value = (999999, 'N/A', 'N/A', 999999, 1e+20, 1e+20, 999999, 999999, 1e+20, 1e+20, 1e+20, 1e+20, 1e+20, 1e+20, 1e+20, 1e+20, 1e+20, 1e+20),\n",
        "            dtype = [('objID', '<i8'), ('osrcid', 'S17'), ('xsrcid', 'S13'), ('SpecObjID', '<i8'), ('ra', '<f8'), ('dec', '<f8'), ('obsid', '<i8'), ('ccdid', '<i8'), ('z', '<f8'), ('modelMag_i', '<f8'), ('modelMagErr_i', '<f8'), ('modelMag_r', '<f8'), ('modelMagErr_r', '<f8'), ('expo', '<f8'), ('theta', '<f8'), ('rad_ecf_39', '<f8'), ('detlim90', '<f8'), ('fBlim90', '<f8')])"
       ]
      }
     ],
     "prompt_number": 10
    },
    {
     "cell_type": "code",
     "collapsed": false,
     "input": [
      "Table.read('data/ascii/hard2.dat', format='ascii.no_header', delimiter=':', data_start=5,\n",
      "           names=['year', 'peas', 'beans', 'carrots'], fill_values=[('not sure', 0)])"
     ],
     "language": "python",
     "metadata": {},
     "outputs": [
      {
       "html": [
        "<table id=\"table4400879184\"><thead><tr><th>year</th><th>peas</th><th>beans</th><th>carrots</th></tr></thead><tr><td>1992</td><td>2</td><td>3</td><td>4</td></tr><tr><td>1993</td><td>10</td><td>12</td><td>14</td></tr><tr><td>1994</td><td>--</td><td>0</td><td>5</td></tr><tr><td>1995</td><td>7</td><td>6</td><td>5</td></tr></table>"
       ],
       "metadata": {},
       "output_type": "pyout",
       "prompt_number": 11,
       "text": [
        "<Table rows=4 names=('year','peas','beans','carrots')>\n",
        "masked_array(data = [(1992, 2, 3, 4) (1993, 10, 12, 14) (1994, --, 0, 5) (1995, 7, 6, 5)],\n",
        "             mask = [(False, False, False, False) (False, False, False, False)\n",
        " (False, True, False, False) (False, False, False, False)],\n",
        "       fill_value = (999999, 999999, 999999, 999999),\n",
        "            dtype = [('year', '<i8'), ('peas', '<i8'), ('beans', '<i8'), ('carrots', '<i8')])"
       ]
      }
     ],
     "prompt_number": 11
    },
    {
     "cell_type": "markdown",
     "metadata": {},
     "source": [
      "### Writing\n",
      "\n",
      "Start from the table from `'ipac.dat'` and make a new table that has just first 2 lines of the first 3 columns.  This is done with:\n",
      "```python\n",
      ">>> dat3 = dat['designation', 'ra', 'dec'][:2]\n",
      "```"
     ]
    },
    {
     "cell_type": "code",
     "collapsed": false,
     "input": [
      "dat3 = dat['designation', 'ra', 'dec'][:2]"
     ],
     "language": "python",
     "metadata": {},
     "outputs": [],
     "prompt_number": 12
    },
    {
     "cell_type": "markdown",
     "metadata": {},
     "source": [
      "Find the output format output that will create each of the following three outputs from the table `t3`.  You can use the pattern:\n",
      "```\n",
      "dat3.write(sys.stdout, format='...', ...)  # assuming import sys beforehand\n",
      "```"
     ]
    },
    {
     "cell_type": "markdown",
     "metadata": {},
     "source": [
      "##### Format 1\n",
      "```\n",
      "designation,ra,dec,sigra,sigdec\n",
      "J095542.55+690421.2,148.9273263,69.0725621,0.0401,0.039\n",
      "J095540.45+690439.1,148.9185759,69.0775361,0.0519,0.0494\n",
      "```"
     ]
    },
    {
     "cell_type": "code",
     "collapsed": false,
     "input": [
      "import sys\n",
      "dat3.write(sys.stdout, format='ascii', delimiter=',')"
     ],
     "language": "python",
     "metadata": {},
     "outputs": [
      {
       "output_type": "stream",
       "stream": "stdout",
       "text": [
        "designation,ra,dec\n",
        "J095542.55+690421.2,148.9273263,69.0725621\n",
        "J095540.45+690439.1,148.9185759,69.0775361\n"
       ]
      }
     ],
     "prompt_number": 13
    },
    {
     "cell_type": "markdown",
     "metadata": {},
     "source": [
      "##### Format 2\n",
      "```\n",
      "        designation          ra        dec\n",
      "------------------- ----------- ----------\n",
      "J095542.55+690421.2 148.9273263 69.0725621\n",
      "J095540.45+690439.1 148.9185759 69.0775361\n",
      "```"
     ]
    },
    {
     "cell_type": "code",
     "collapsed": false,
     "input": [
      "dat3.write(sys.stdout, format='ascii.fixed_width_two_line')"
     ],
     "language": "python",
     "metadata": {},
     "outputs": [
      {
       "output_type": "stream",
       "stream": "stdout",
       "text": [
        "        designation          ra        dec\n",
        "------------------- ----------- ----------\n",
        "J095542.55+690421.2 148.9273263 69.0725621\n",
        "J095540.45+690439.1 148.9185759 69.0775361\n"
       ]
      }
     ],
     "prompt_number": 14
    },
    {
     "cell_type": "markdown",
     "metadata": {},
     "source": [
      "##### Format 3\n",
      "```\n",
      "\\begin{table}\n",
      "\\begin{tabular}{ccc}\n",
      "designation & ra & dec \\\\\n",
      "J095542.55+690421.2 & 148.9273263 & 69.0725621 \\\\\n",
      "J095540.45+690439.1 & 148.9185759 & 69.0775361 \\\\\n",
      "\\end{tabular}\n",
      "\\end{table}\n",
      "```"
     ]
    },
    {
     "cell_type": "code",
     "collapsed": false,
     "input": [
      "dat3.write(sys.stdout, format='ascii.latex')"
     ],
     "language": "python",
     "metadata": {},
     "outputs": [
      {
       "output_type": "stream",
       "stream": "stdout",
       "text": [
        "\\begin{table}\n",
        "\\begin{tabular}{ccc}\n",
        "designation & ra & dec \\\\\n",
        "J095542.55+690421.2 & 148.9273263 & 69.0725621 \\\\\n",
        "J095540.45+690439.1 & 148.9185759 & 69.0775361 \\\\\n",
        "\\end{tabular}\n",
        "\\end{table}\n"
       ]
      }
     ],
     "prompt_number": 15
    },
    {
     "cell_type": "markdown",
     "metadata": {},
     "source": [
      "##### IPAC\n",
      "\n",
      "- Now write the `t3` table back out in IPAC format.  Does it look like the output has the same units and metadata as the original?"
     ]
    },
    {
     "cell_type": "code",
     "collapsed": false,
     "input": [
      "dat3.write(sys.stdout, format='ipac')"
     ],
     "language": "python",
     "metadata": {},
     "outputs": [
      {
       "output_type": "stream",
       "stream": "stderr",
       "text": [
        "WARNING: Comment string > 78 characters was automatically wrapped. [astropy.io.ascii.ipac]\n",
        "WARNING:astropy:Comment string > 78 characters was automatically wrapped.\n"
       ]
      },
      {
       "output_type": "stream",
       "stream": "stdout",
       "text": [
        "\\ designation\n",
        "\\ ___ unique WISE source designation\n",
        "\\ ra (deg)\n",
        "\\ ___ right ascension (J2000)\n",
        "\\ dec (deg)\n",
        "\\ ___ declination (J2000)\n",
        "\\ sigra (arcsec)\n",
        "\\ ___ uncertainty in RA\n",
        "\\ sigdec (arcsec)\n",
        "\\ ___ uncertainty in DEC\n",
        "\\ sigradec (arcsec)\n",
        "\\ ___ cross-term of RA and Dec uncertainties\n",
        "\\ w1mpro (mag)\n",
        "\\ ___ instrumental profile-fit photometry magnitude, band 1\n",
        "\\ w1sigmpro (mag)\n",
        "\\ ___ instrumental profile-fit photometry flux uncertainty in mag units, band 1\n",
        "\\ w1snr\n",
        "\\ ___ instrumental profile-fit photometry S/N ratio, band 1\n",
        "\\ w1rchi2\n",
        "\\ ___ instrumental profile-fit photometry reduced chi^2, band 1\n",
        "\\ w2mpro (mag)\n",
        "\\ ___ instrumental profile-fit photometry magnitude, band 2\n",
        "\\ w2sigmpro (mag)\n",
        "\\ ___ instrumental profile-fit photometry flux uncertainty in mag units, band 2\n",
        "\\ w2snr\n",
        "\\ ___ instrumental profile-fit photometry S/N ratio, band 2\n",
        "\\ w2rchi2\n",
        "\\ ___ instrumental profile-fit photometry reduced chi^2, band 2\n",
        "\\ w3mpro (mag)\n",
        "\\ ___ instrumental profile-fit photometry magnitude, band 3\n",
        "\\ w3sigmpro (mag)\n",
        "\\ ___ instrumental profile-fit photometry flux uncertainty in mag units, band 3\n",
        "\\ w3snr\n",
        "\\ ___ instrumental profile-fit photometry S/N ratio, band 3\n",
        "\\ w3rchi2\n",
        "\\ ___ instrumental profile-fit photometry reduced chi^2, band 3\n",
        "\\ w4mpro (mag)\n",
        "\\ ___ instrumental profile-fit photometry magnitude, band 4\n",
        "\\ w4sigmpro (mag)\n",
        "\\ ___ instrumental profile-fit photometry flux uncertainty in mag units, band 4\n",
        "\\ w4snr\n",
        "\\ ___ instrumental profile-fit photometry S/N ratio, band 4\n",
        "\\ w4rchi2\n",
        "\\ ___ instrumental profile-fit photometry reduced chi^2, band 4\n",
        "\\ nb\n",
        "\\ ___ number of blend components used in each fit\n",
        "\\ na\n",
        "\\ ___ active deblend flag (=1 if actively deblended)\n",
        "\\ w1sat\n",
        "\\ ___ fraction of pixels affected by saturation, band 1\n",
        "\\ w2sat\n",
        "\\ ___ fraction of pixels affected by saturation, band 2\n",
        "\\ w3sat\n",
        "\\ ___ fraction of pixels affected by saturation, band 3\n",
        "\\ w4sat\n",
        "\\ ___ fraction of pixels affected by saturation, band 4\n",
        "\\ pmra (maspyr)\n",
        "\\ ___ Apparent motion in RA\n",
        "\\ sigpmra (maspyr)\n",
        "\\ ___ Uncertainty in the RA motion estimate\n",
        "\\ pmdec (maspyr)\n",
        "\\ ___ Apparent motion in Dec\n",
        "\\ sigpmdec (maspyr)\n",
        "\\ ___ Uncertainty in the Dec  motion estimate\n",
        "\\ cc_flags\n",
        "\\ ___ prioritized artifacts affecting the source in each band\n",
        "\\ ext_flg\n",
        "\\ ___ probability that source morphology is not consistent with single PSF\n",
        "\\ var_flg\n",
        "\\ ___ probability that flux varied in any band greater than amount expected from\n",
        "\\ unc.s\n",
        "\\ ph_qual\n",
        "\\ ___ photometric quality of each band (A=highest, U=upper limit)\n",
        "\\ moon_lev\n",
        "\\ ___ level of moon contamination in coadd (ceiling(#frmmoon/#frames*10)), 1 per\n",
        "\\ band\n",
        "\\ w1nm\n",
        "\\ ___ number of profile-fit flux measurements for source with SNR >= 3, band 1\n",
        "\\ w1m\n",
        "\\ ___ number of profile-fit flux measurements for source, band 1\n",
        "\\ w2nm\n",
        "\\ ___ number of profile-fit flux measurements for source with SNR >= 3, band 2\n",
        "\\ w2m\n",
        "\\ ___ number of profile-fit flux measurements for source, band 2\n",
        "\\ w3nm\n",
        "\\ ___ number of profile-fit flux measurements for source with SNR >= 3, band 3\n",
        "\\ w3m\n",
        "\\ ___ number of profile-fit flux measurements for source, band 3\n",
        "\\ w4nm\n",
        "\\ ___ number of profile-fit flux measurements for source with SNR >= 3, band 4\n",
        "\\ w4m\n",
        "\\ ___ number of profile-fit flux measurements for source, band 4\n",
        "\\ angle (deg)\n",
        "\\ ___ Position Angle in degree.\n",
        "\\ dist (arcsec)\n",
        "\\ ___ Distance between the target position and each source in arcsec.\n",
        "\\fixlen='T'\n",
        "\\primary=0\n",
        "\\RowsRetrieved=5\n",
        "\\QueryTime='00:00:00.00837'\n",
        "\\ORIGIN='IPAC Infrared Science Archive (IRSA), Caltech/JPL'\n",
        "\\DATETIME='2014-06-22 18:51:50'\n",
        "\\DataTag='ADS/IRSA.Gator#2014/0622/185150_31848'\n",
        "\\DATABASE='AllWISE Source Catalog (wise_allwise_p3as_psd)'\n",
        "\\EQUINOX='J2000'\n",
        "\\SKYAREA='within 1 arcmin of  ra=148.88821 dec=+69.06528 Eq J2000 '\n",
        "\\StatusFile='/workspace/TMP_Tfkh5F_30754/Gator/irsa/31848/log.31848.html'\n",
        "\\SQL=\"'WHERE (no constraints)SELECT (47 column names follow in next row.)\"\n",
        "|        designation|         ra|       dec|\n",
        "|               char|     double|    double|\n",
        "|                   |        deg|       deg|\n",
        "|               null|       null|      null|\n",
        " J095542.55+690421.2 148.9273263 69.0725621 \n",
        " J095540.45+690439.1 148.9185759 69.0775361 \n"
       ]
      }
     ],
     "prompt_number": 16
    },
    {
     "cell_type": "markdown",
     "metadata": {},
     "source": [
      "[Back to top](#Handling-ASCII-data-tables---Solutions)"
     ]
    }
   ],
   "metadata": {}
  }
 ]
}