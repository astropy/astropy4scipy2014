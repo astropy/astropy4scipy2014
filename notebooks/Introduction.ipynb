{
 "metadata": {
  "name": "",
  "signature": "sha256:9adde85f0a56599a113fe27a5d5ac43c5e55f68a44e09571486e1685ea615cc0"
 },
 "nbformat": 3,
 "nbformat_minor": 0,
 "worksheets": [
  {
   "cells": [
    {
     "cell_type": "heading",
     "level": 1,
     "metadata": {},
     "source": [
      "A Tutorial for Astropy"
     ]
    },
    {
     "cell_type": "heading",
     "level": 1,
     "metadata": {},
     "source": [
      "Introduction"
     ]
    },
    {
     "cell_type": "heading",
     "level": 2,
     "metadata": {},
     "source": [
      "A brief history of the Astropy Project"
     ]
    },
    {
     "cell_type": "markdown",
     "metadata": {},
     "source": [
      " - Started about 4 years ago\n",
      "   - Goal to standardize on core set of astronomical libraries\n",
      "    - And to foster use of standard libraries in Python application and library packages\n",
      " - STScI has migrated its standard libraries to astropy and is transitioning to use it for all its released software\n",
      " - Very active community\n",
      " - Much effort going into consistency and testing\n",
      " - Some of the most active members are teaching this tutorial\n",
      "   - Does not include me..."
     ]
    },
    {
     "cell_type": "heading",
     "level": 2,
     "metadata": {},
     "source": [
      "Not part of Tutorial"
     ]
    },
    {
     "cell_type": "markdown",
     "metadata": {},
     "source": [
      "  - Intro to Python\n",
      "    - though this still may be useful if you know no Python\n",
      "      - i.e., you can see what is possible\n",
      "  - comprehensive coverage of all of Astropy\n",
      "    - Just too much in astropy to cover\n",
      "  - covering other major astronomical tools in Python"
     ]
    },
    {
     "cell_type": "heading",
     "level": 2,
     "metadata": {},
     "source": [
      "Outline of Tutorial"
     ]
    },
    {
     "cell_type": "markdown",
     "metadata": {},
     "source": [
      " - Introduction (15 minutes talking / 15 minutes exercise): Perry Greenfield\n",
      " - Units/Quantities (15/15): Erik Bray\n",
      " - Tables (20/20): Tom Aldcroft\n",
      "\n",
      "15 minute break\n",
      "\n",
      " - Data Access\n",
      "   - FITS files (30/30): Erik Bray\n",
      "   - ascii tables (15/15): Tom Aldcroft\n",
      " - coordinates (sky/time) (15/15): Tom Robitaille\n",
      " - Astropy work in progress (5): Tom Robitaille\n",
      " "
     ]
    },
    {
     "cell_type": "heading",
     "level": 2,
     "metadata": {},
     "source": [
      "Software Prerequisites"
     ]
    },
    {
     "cell_type": "markdown",
     "metadata": {},
     "source": [
      " - astropy 0.4 (0.3.2 will suffice, but coordinates examples will be different in some cases; we wish to teach the new version even if not all have it installed)\n",
      " - numpy 1.8.1\n",
      " - matplotlib 1.3.1\n",
      " - ipython 2.0.0\n",
      " \n",
      "Easist ways to obtain are:\n",
      " \n",
      "Anaconda (2.0) http://continuum.io/downloads\n",
      "\n",
      "Ureka (v1.4) ssb.stsci.edu/ureka\n",
      "\n",
      "Both of the above include astropy 0.3.2\n",
      " \n",
      "IPython Notebook is the basis for tutorial material\n",
      "\n",
      " - show of hands: who has never used the IPython notebook?\n",
      " - Tutorial notebooks are available from xxx\n",
      " - Tutorial-related web pages are at xxx\n",
      " - For exercises, note that '<shift>-Return' is needed to execute code cell\n",
      "   - also note that only last item repr is shown (use print for multiple outputs)\n",
      " "
     ]
    },
    {
     "cell_type": "markdown",
     "metadata": {},
     "source": [
      "---"
     ]
    },
    {
     "cell_type": "heading",
     "level": 2,
     "metadata": {},
     "source": [
      "Practical Exercises"
     ]
    },
    {
     "cell_type": "markdown",
     "metadata": {},
     "source": [
      "Mainly to see that everything is working and installed on your computer\n",
      "\n"
     ]
    },
    {
     "cell_type": "heading",
     "level": 3,
     "metadata": {},
     "source": [
      "Level 1"
     ]
    },
    {
     "cell_type": "markdown",
     "metadata": {},
     "source": [
      " Open the second tutorial session (Unit_Conversion.ipynb). Execute a few code cells\n",
      "\n",
      " "
     ]
    },
    {
     "cell_type": "code",
     "collapsed": false,
     "input": [
      "# example code cell\n",
      "x = 2**10\n",
      "print x"
     ],
     "language": "python",
     "metadata": {},
     "outputs": [
      {
       "output_type": "stream",
       "stream": "stdout",
       "text": [
        "1024\n"
       ]
      }
     ],
     "prompt_number": 1
    },
    {
     "cell_type": "heading",
     "level": 3,
     "metadata": {},
     "source": [
      "Level 2"
     ]
    },
    {
     "cell_type": "markdown",
     "metadata": {},
     "source": [
      "Create a new cell and try the following imports\n",
      "\n",
      "\n",
      "    import numpy as np\n",
      "    import astropy.units as u\n",
      "    import astropy.io.fits as iof\n",
      "    import astropy.wcs as wcs\n",
      "    import astropy.io.ascii as ioa\n",
      "    import astropy.coordinates as coord\n",
      "    import astropy.time as time\n",
      "    import matplotlib.pyplot as plt\n",
      "\n",
      "IF any of these don't work, ask for help with checking your installation."
     ]
    },
    {
     "cell_type": "heading",
     "level": 3,
     "metadata": {},
     "source": [
      "Level 3"
     ]
    },
    {
     "cell_type": "markdown",
     "metadata": {},
     "source": [
      "Try executing the following commands within an ipython notebook cell (requires downloading data files and unpacking. Run these commands from the directory that the files are in):\n",
      " \n",
      "    # assumes above imports have been done\n",
      "    hdus = fits.open('pix.fits')\n",
      "    plt.imshow(hdus[0].data, vmin=0, vmax=500)\n",
      "  "
     ]
    },
    {
     "cell_type": "heading",
     "level": 3,
     "metadata": {},
     "source": [
      "Level 4"
     ]
    },
    {
     "cell_type": "markdown",
     "metadata": {},
     "source": [
      "Write a python function to compute the first 10\\**100 primes in 5 minutes. Select the most interesting one."
     ]
    }
   ],
   "metadata": {}
  }
 ]
}