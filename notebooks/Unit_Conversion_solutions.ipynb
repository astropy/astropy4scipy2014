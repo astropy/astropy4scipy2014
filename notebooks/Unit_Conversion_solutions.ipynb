{
 "metadata": {
  "name": "",
  "signature": "sha256:309e6b3fe891ea1f0cb7f103108efdad7f6f94c7071cd6ea02da87072a85635a"
 },
 "nbformat": 3,
 "nbformat_minor": 0,
 "worksheets": [
  {
   "cells": [
    {
     "cell_type": "heading",
     "level": 1,
     "metadata": {},
     "source": [
      "Unit Conversion - Solutions"
     ]
    },
    {
     "cell_type": "markdown",
     "metadata": {},
     "source": [
      "* [Back to tutorial home](http://astropy4scipy2014.readthedocs.org/)\n",
      "* [Download raw notebook file](https://github.com/astropy/astropy4scipy2014/raw/master/notebooks/Unit_Conversion_solutions.ipynb)"
     ]
    },
    {
     "cell_type": "markdown",
     "metadata": {},
     "source": [
      "Level 1\n",
      "-------\n",
      "\n",
      "What is 1 barn megaparsecs in teaspoons?"
     ]
    },
    {
     "cell_type": "code",
     "collapsed": false,
     "input": [
      "from astropy import units as u\n",
      "from astropy.units import imperial"
     ],
     "language": "python",
     "metadata": {},
     "outputs": [],
     "prompt_number": 1
    },
    {
     "cell_type": "code",
     "collapsed": false,
     "input": [
      "(1. * u.barn * u.Mpc).to(imperial.tsp) "
     ],
     "language": "python",
     "metadata": {},
     "outputs": [
      {
       "latex": [
        "$0.626035 \\; \\mathrm{tsp}$"
       ],
       "metadata": {},
       "output_type": "pyout",
       "prompt_number": 2,
       "text": [
        "<Quantity 0.6260350298930571 tsp>"
       ]
      }
     ],
     "prompt_number": 2
    },
    {
     "cell_type": "markdown",
     "metadata": {},
     "source": [
      "Level 2\n",
      "-------\n",
      "\n",
      "What is $3 \\mathrm{nm}^2 \\mathrm{Mpc} / \\mathrm{m}^3$ in dimensionless units?"
     ]
    },
    {
     "cell_type": "code",
     "collapsed": false,
     "input": [
      "(3. * u.nm**2 * u.Mpc / u.m**3).decompose()"
     ],
     "language": "python",
     "metadata": {},
     "outputs": [
      {
       "latex": [
        "$92570.3 \\; \\mathrm{}$"
       ],
       "metadata": {},
       "output_type": "pyout",
       "prompt_number": 7,
       "text": [
        "<Quantity 92570.32744401575>"
       ]
      }
     ],
     "prompt_number": 7
    },
    {
     "cell_type": "markdown",
     "metadata": {},
     "source": [
      "or to just get the numerical value:"
     ]
    },
    {
     "cell_type": "code",
     "collapsed": false,
     "input": [
      "(3. * u.nm**2 * u.Mpc / u.m**3).decompose().value"
     ],
     "language": "python",
     "metadata": {},
     "outputs": [
      {
       "metadata": {},
       "output_type": "pyout",
       "prompt_number": 8,
       "text": [
        "92570.32744401575"
       ]
      }
     ],
     "prompt_number": 8
    },
    {
     "cell_type": "markdown",
     "metadata": {},
     "source": [
      "Level 3\n",
      "-------\n",
      "\n",
      "Try and use equivalencies to find the doppler shifted wavelength of a line at $454.4\\mathrm{nm}$ if the object is moving at a velocity of $510\\mathrm{km}/\\mathrm{s}$ away from the observer."
     ]
    },
    {
     "cell_type": "code",
     "collapsed": false,
     "input": [
      "(510. * u.km / u.s).to(u.nm, equivalencies=u.doppler_optical(454.4 * u.nm))"
     ],
     "language": "python",
     "metadata": {},
     "outputs": [
      {
       "latex": [
        "$455.173 \\; \\mathrm{nm}$"
       ],
       "metadata": {},
       "output_type": "pyout",
       "prompt_number": 9,
       "text": [
        "<Quantity 455.173014776776 nm>"
       ]
      }
     ],
     "prompt_number": 9
    },
    {
     "cell_type": "markdown",
     "metadata": {},
     "source": [
      "[Back to top](#Unit-Conversion---Solutions)"
     ]
    }
   ],
   "metadata": {}
  }
 ]
}